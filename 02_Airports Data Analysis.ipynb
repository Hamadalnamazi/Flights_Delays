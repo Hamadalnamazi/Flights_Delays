{
 "cells": [
  {
   "cell_type": "code",
   "execution_count": 1,
   "metadata": {
    "collapsed": true
   },
   "outputs": [],
   "source": [
    "import pandas as pd\n",
    "import numpy as np\n",
    "import matplotlib.pyplot as plt\n",
    "%matplotlib inline\n",
    "import os\n",
    "import datetime as dt\n",
    "\n",
    "# initialize a connection to the database\n",
    "import sqlite3\n",
    "conn = sqlite3.connect('../Spotify_Challenge/dbsql.db')\n",
    "\n",
    "# initialize another sqlalchemy connection to the same database to be able to query data straight to pandas dataframe\n",
    "from sqlalchemy import create_engine\n",
    "disk_engine = create_engine('sqlite:///../Spotify_Challenge/dbsql.db')\n",
    "\n",
    "from sklearn.preprocessing import StandardScaler, Imputer, RobustScaler\n",
    "from sklearn.cluster import KMeans\n",
    "\n",
    "from scipy.spatial.distance import pdist, squareform\n",
    "from scipy.cluster.hierarchy import linkage, dendrogram"
   ]
  },
  {
   "cell_type": "code",
   "execution_count": 2,
   "metadata": {
    "collapsed": true
   },
   "outputs": [],
   "source": [
    "# functions\n",
    "def clusterize_data(data,k,col_names,col_names_return,rescale_strategy = 'median',gen_plots=True):\n",
    "    df = data[col_names]\n",
    "    # treat missing data\n",
    "    df = impute_na(df)\n",
    "    # rescale data\n",
    "    df = rescale_data(df,strategy=rescale_strategy)['data']\n",
    "    # k cluster\n",
    "    clusters = generate_clusters(df,k)\n",
    "    data['CLASS'] = clusters['labels']\n",
    "    \n",
    "    if gen_plots:\n",
    "        data.CLASS.hist()\n",
    "        plt.show()\n",
    "    return {'data':data[col_names_return],'centroids':clusters['centroids'],'labels':clusters['labels']}\n",
    "\n",
    "def impute_na(data):\n",
    "    cols = data.columns\n",
    "    for col in cols:\n",
    "        if data[data[col].isnull()].shape[0]>0:\n",
    "            try:\n",
    "                most_freq = data[col].mode()[0]\n",
    "            except:\n",
    "                most_freq = 0\n",
    "            data.loc[data[data[col].isnull()].index.tolist(),col] = most_freq\n",
    "    return data\n",
    "\n",
    "def rescale_data(data, strategy = 'mean'):\n",
    "    cols = data.columns\n",
    "    if strategy == 'mean':\n",
    "        s = StandardScaler()\n",
    "    if strategy == 'median':\n",
    "        s = RobustScaler(with_centering=True,with_scaling=True)\n",
    "    data = s.fit_transform(data)\n",
    "    data = pd.DataFrame(data,columns=cols)\n",
    "    return {'data':data,'scaler':s}\n",
    "\n",
    "def generate_clusters(data,k):\n",
    "    km = KMeans(k)\n",
    "    km.fit(data)\n",
    "    centroids = km.cluster_centers_\n",
    "    labels = km.labels_\n",
    "    return {'centroids':centroids,'labels':labels}\n",
    "\n",
    "def squared_clustering_errors(data,k):\n",
    "    cl = clusterize_airlines(data,k,col_names=data.columns.tolist()[2:])\n",
    "    centroids = cl['centroids']\n",
    "    labels = cl['labels']\n",
    "    assignments =map(lambda x:centroids[x],labels)\n",
    "    return sum(map(lambda x,y:squared_distance(x,y),data[data.columns.tolist()[2:-1]].values,assignments ))\n",
    "\n",
    "def optimize_k(data,ks):\n",
    "    errors = []\n",
    "    for k in ks:\n",
    "        errors.append(squared_clustering_errors(data,k))\n",
    "    plt.plot(ks,errors)\n",
    "    plt.show()\n",
    "    return zip(ks,errors)"
   ]
  },
  {
   "cell_type": "markdown",
   "metadata": {},
   "source": [
    "# Cluster analysis\n",
    "\n",
    "In this notebook, airports and flights are going to be set into clusters. But one would ask himself why clustering airports and/or flights.\n",
    "Let me first remind the objective of the project. The goal of this project is to build a model that can predict how long a flight between two airports, **origin** and **destination**, in a given **airline** on a given **date** would be delayed. In other words, this model would ask only 4 variables from the users. However, the dataset available to us has about 22 features. So, in order to make use of all the rest of the features, I am going to cluster airports and flights using specific features hence embedding the rest of the variables into airports or flights. For instance, using airports geo-coordinates, airports can be clustered into 2 groups (east and west) or even more. Similarly, flights can be clustered using the distance between origin and destination or even average flight time."
   ]
  },
  {
   "cell_type": "markdown",
   "metadata": {},
   "source": [
    "### 1. Import data\n",
    "#### 1.1. Airports"
   ]
  },
  {
   "cell_type": "code",
   "execution_count": 3,
   "metadata": {
    "collapsed": true
   },
   "outputs": [],
   "source": [
    "features = [u'index',u'YEAR', u'QUARTER', u'MONTH', u'DAY_OF_MONTH', u'DAY_OF_WEEK', u'AIRLINE_ID', \n",
    "            u'CARRIER', u'TAIL_NUM', u'FL_NUM', u'ORIGIN_AIRPORT_ID', u'ORIGIN', u'ORIGIN_CITY_NAME', \n",
    "            u'ORIGIN_STATE_NM', u'DEST_AIRPORT_ID', u'DEST', u'DEST_CITY_NAME', u'DEST_STATE_NM', \n",
    "            u'DEP_DELAY', u'DEP_DELAY_NEW', u'DEP_DEL15', u'TAXI_OUT', u'TAXI_IN', u'ARR_DELAY', \n",
    "            u'ARR_DELAY_NEW', u'ARR_DEL15', u'CANCELLED', u'CANCELLATION_CODE', u'DIVERTED', u'AIR_TIME', \n",
    "            u'FLIGHTS', u'DISTANCE', u'CARRIER_DELAY', u'WEATHER_DELAY', u'NAS_DELAY', u'SECURITY_DELAY', \n",
    "            u'LATE_AIRCRAFT_DELAY',u'FL_DATE']\n",
    "years = (2010,2011,2012,2013,2014,2015)"
   ]
  },
  {
   "cell_type": "code",
   "execution_count": 4,
   "metadata": {
    "collapsed": false
   },
   "outputs": [
    {
     "name": "stdout",
     "output_type": "stream",
     "text": [
      "0:00:00.020073\n",
      "0:00:00.049845\n"
     ]
    },
    {
     "name": "stderr",
     "output_type": "stream",
     "text": [
      "/Library/Frameworks/Python.framework/Versions/2.7/lib/python2.7/site-packages/ipykernel/__main__.py:73: SettingWithCopyWarning: \n",
      "A value is trying to be set on a copy of a slice from a DataFrame.\n",
      "Try using .loc[row_indexer,col_indexer] = value instead\n",
      "\n",
      "See the caveats in the documentation: http://pandas.pydata.org/pandas-docs/stable/indexing.html#indexing-view-versus-copy\n"
     ]
    }
   ],
   "source": [
    "# load airports data. This is the table containing coordinates of airports\n",
    "airports = pd.read_sql_query('select iata, lat, long from airports',disk_engine)\n",
    "\n",
    "\n",
    "# load all data aggregated by origin\n",
    "tic = dt.datetime.now() #time the process\n",
    "if 'agg_per_origin' in map(lambda x:x[0],conn.execute(\"select name from sqlite_master where type = 'table'\").fetchall()):\n",
    "    # load the table if it exists already\n",
    "    df1 = pd.read_sql_query(\"SELECT * FROM agg_per_origin\",disk_engine)\n",
    "    if 'index' in df1.columns:\n",
    "        df1.drop('index',axis=1,inplace=True)\n",
    "else:\n",
    "    # otherwise, query data from the database\n",
    "    print \"querying from raw data\"\n",
    "    df1 = pd.read_sql_query(\"SELECT YEAR, ORIGIN, SUM(FLIGHTS) AS FLIGHTS, SUM(DEP_DEL15) AS DEP_DEL, \"\n",
    "                            \"SUM(DEP_DELAY) AS DDEL1, SUM(DEP_DELAY_NEW) AS DDEL2, SUM(CANCELLED) AS CANCELLED, \"\n",
    "                            \"SUM(SECURITY_DELAY) AS SEC_DEL, SUM(CARRIER_DELAY) AS CAR_DEL, SUM(NAS_DELAY) AS NAS_DEL, \"\n",
    "                            \"SUM(WEATHER_DELAY) AS WEA_DEL, SUM(LATE_AIRCRAFT_DELAY) AS LAD_DEL \"\n",
    "                            \"FROM data \"\n",
    "                            \"GROUP BY YEAR, ORIGIN\",disk_engine)\n",
    "    #push the aggregated data back to the database\n",
    "    df1.to_sql('agg_per_origin',conn,index=False)\n",
    "print dt.datetime.now()-tic #print the time taken for this operation\n",
    "\n",
    "\n",
    "# load all data aggreagated by destination\n",
    "tic = dt.datetime.now() #time the process\n",
    "if 'agg_per_destination' in map(lambda x:x[0],conn.execute(\"select name from sqlite_master where type = 'table'\").fetchall()):\n",
    "    # load the table if it exists already\n",
    "    df2 = pd.read_sql_query(\"SELECT * FROM agg_per_destination\",disk_engine)\n",
    "    if 'index' in df2.columns:\n",
    "        df2.drop('index',axis=1,inplace=True)\n",
    "else:\n",
    "    # otherwise, query data from the database\n",
    "    print \"querying from raw data\"\n",
    "    df2 = pd.read_sql_query(\"SELECT YEAR, DEST, SUM(FLIGHTS) AS FLIGHTS, SUM(ARR_DEL15) AS ARR_DEL, \"\n",
    "                            \"SUM(ARR_DELAY) AS ADEL1, SUM(ARR_DELAY_NEW) AS ADEL2, SUM(DIVERTED) AS DIVERTED \"\n",
    "                            \"FROM data \"\n",
    "                            \"GROUP BY YEAR, DEST\",disk_engine)\n",
    "    #push the aggregated data back to the database\n",
    "    df2.to_sql('agg_per_destination',conn,index=False)\n",
    "print dt.datetime.now()-tic #print the time taken for this operation\n",
    "\n",
    "\n",
    "# put origin and destination data together\n",
    "#loop through years and merge data in df1, df2 and airports per year and origin\n",
    "tmp_df = pd.DataFrame()\n",
    "for yoi in years:\n",
    "    agg_df = pd.merge(df1[df1.YEAR == yoi],df2[df2.YEAR == yoi],left_on='ORIGIN',right_on='DEST')\n",
    "\n",
    "    # append coordinates as well\n",
    "    agg_df = pd.merge(agg_df,airports,left_on='ORIGIN', right_on='iata')\n",
    "    agg_df.drop(['DEST','YEAR_y','iata'],axis=1,inplace=True)\n",
    "    agg_df.rename(columns={'YEAR_x':'YEAR','FLIGHTS_x':'DEP_FLIGHTS','FLIGHTS_y':'ARR_FLIGHTS','ORIGIN':'IATA',\n",
    "                           'lat':'LAT','long':'LON'}, inplace=True)\n",
    "    # use RobustScaler to take care of outliers\n",
    "    #rob_scaler = RobustScaler(with_centering=True,with_scaling=True)\n",
    "    #indices = agg_df[agg_df.columns[2:-2]].dropna().index.tolist()\n",
    "    #agg_df.loc[indices,agg_df.columns[2:-2]] = rob_scaler.fit_transform(agg_df[agg_df.columns[2:-2]].dropna().values)\n",
    "\n",
    "    # assign aggregated data to airports\n",
    "    tmp_df = pd.concat([tmp_df,agg_df],ignore_index=True)\n",
    "\n",
    "#impute NA\n",
    "#imputer = Imputer(strategy='most_frequent')\n",
    "#tmp_df[['SEC_DEL','CAR_DEL','NAS_DEL','WEA_DEL','LAD_DEL']] = imputer.fit_transform(tmp_df[['SEC_DEL','CAR_DEL','NAS_DEL','WEA_DEL','LAD_DEL']])\n",
    "\n",
    "# now let's normalize some features with respect to the number of departure flights \n",
    "features_to_normalize = ['DEP_FLIGHTS','DEP_DEL','DDEL1','DDEL2','CANCELLED','SEC_DEL','CAR_DEL','NAS_DEL',\n",
    "                         'WEA_DEL','LAD_DEL','ARR_FLIGHTS','ARR_DEL','ADEL1','ADEL2','DIVERTED']\n",
    "airports = tmp_df[['YEAR','IATA']]\n",
    "for col in features_to_normalize:\n",
    "    airports[col] = (tmp_df.loc[:,col]/tmp_df['DEP_FLIGHTS']).values\n",
    "#airports = tmp_df.copy()"
   ]
  },
  {
   "cell_type": "markdown",
   "metadata": {},
   "source": [
    "#### 1.2 Flights"
   ]
  },
  {
   "cell_type": "markdown",
   "metadata": {},
   "source": [
    "### 2. Dataexploration\n",
    "\n",
    "Here we will explore features to detect and remove colinearity and to reject outliers (data beyond $\\mu$$\\pm$ 3$\\sigma$)\n",
    "\n",
    "#### 2.1 Airports"
   ]
  },
  {
   "cell_type": "code",
   "execution_count": 6,
   "metadata": {
    "collapsed": false
   },
   "outputs": [
    {
     "name": "stderr",
     "output_type": "stream",
     "text": [
      "/Library/Frameworks/Python.framework/Versions/2.7/lib/python2.7/site-packages/pandas/core/indexing.py:132: SettingWithCopyWarning: \n",
      "A value is trying to be set on a copy of a slice from a DataFrame\n",
      "\n",
      "See the caveats in the documentation: http://pandas.pydata.org/pandas-docs/stable/indexing.html#indexing-view-versus-copy\n",
      "  self._setitem_with_indexer(indexer, value)\n",
      "/Library/Frameworks/Python.framework/Versions/2.7/lib/python2.7/site-packages/ipykernel/__main__.py:25: SettingWithCopyWarning: \n",
      "A value is trying to be set on a copy of a slice from a DataFrame\n",
      "\n",
      "See the caveats in the documentation: http://pandas.pydata.org/pandas-docs/stable/indexing.html#indexing-view-versus-copy\n",
      "/Library/Frameworks/Python.framework/Versions/2.7/lib/python2.7/site-packages/ipykernel/__main__.py:10: SettingWithCopyWarning: \n",
      "A value is trying to be set on a copy of a slice from a DataFrame.\n",
      "Try using .loc[row_indexer,col_indexer] = value instead\n",
      "\n",
      "See the caveats in the documentation: http://pandas.pydata.org/pandas-docs/stable/indexing.html#indexing-view-versus-copy\n"
     ]
    },
    {
     "data": {
      "image/png": "[encoded data removed]",
      "text/plain": [
       "<matplotlib.figure.Figure at 0x104161f90>"
      ]
     },
     "metadata": {},
     "output_type": "display_data"
    }
   ],
   "source": [
    "cols_to_return = ['YEAR','IATA','CLASS']\n",
    "col_names = airports.columns[3:-2]\n",
    "clst = clusterize_data(airports[airports.YEAR==2010],k=10,col_names=col_names,col_names_return=cols_to_return)"
   ]
  },
  {
   "cell_type": "markdown",
   "metadata": {
    "collapsed": true
   },
   "source": [
    "## =====!!!! NOT DONE !!!!====="
   ]
  },
  {
   "cell_type": "code",
   "execution_count": null,
   "metadata": {
    "collapsed": true
   },
   "outputs": [],
   "source": []
  }
 ],
 "metadata": {
  "kernelspec": {
   "display_name": "Python 2",
   "language": "python",
   "name": "python2"
  },
  "language_info": {
   "codemirror_mode": {
    "name": "ipython",
    "version": 2
   },
   "file_extension": ".py",
   "mimetype": "text/x-python",
   "name": "python",
   "nbconvert_exporter": "python",
   "pygments_lexer": "ipython2",
   "version": "2.7.10"
  }
 },
 "nbformat": 4,
 "nbformat_minor": 0
}

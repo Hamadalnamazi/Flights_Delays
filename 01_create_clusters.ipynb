{
 "cells": [
  {
   "cell_type": "code",
   "execution_count": 1,
   "metadata": {
    "collapsed": true
   },
   "outputs": [],
   "source": [
    "import pandas as pd\n",
    "import numpy as np\n",
    "import matplotlib.pyplot as plt\n",
    "%matplotlib inline\n",
    "import os\n",
    "import datetime as dt\n",
    "\n",
    "\n",
    "import sqlite3\n",
    "conn = sqlite3.connect('../Spotify_Challenge/dbsql.db')\n",
    "from sqlalchemy import create_engine\n",
    "disk_engine = create_engine('sqlite:///../Spotify_Challenge/dbsql.db')\n",
    "\n",
    "from sklearn.preprocessing import StandardScaler\n",
    "from sklearn.cluster import KMeans"
   ]
  },
  {
   "cell_type": "raw",
   "metadata": {},
   "source": [
    "Step1: Cluster airports\n",
    "- geo location\n",
    "- # flights per year\n",
    "- # delays per year\n",
    "- # cancellation per year\n",
    "- # diverted per year\n",
    "- # secutiry delays per year\n",
    "- # carrier delays per year\n",
    "- # weather delays per year\n",
    "- # late aircraft delays per year\n",
    "\n",
    "Step2: Cluster airlines\n",
    "Step3: Cluster itineraries"
   ]
  },
  {
   "cell_type": "code",
   "execution_count": 2,
   "metadata": {
    "collapsed": true
   },
   "outputs": [],
   "source": [
    "### Library\n",
    "def squared_distance(v1,v2):\n",
    "    \"\"\"\n",
    "    calculates squared euclidean distance between two points\n",
    "    v1 and v2 are np array of same dimension\n",
    "    \"\"\"\n",
    "    return sum(x**2 for x in (v2-v1))\n",
    "    \n",
    "\n",
    "\n",
    "\n",
    "def cluster_airports(yoi,K,col_names=None,inputs=[1],gen_plots=True):\n",
    "    \"\"\"\n",
    "    yoi: year if interest\n",
    "    \"\"\"\n",
    "    agg_scaled = inputs\n",
    "    \n",
    "    if len(agg_scaled) == 1:\n",
    "        # put origin and destination agg tables together\n",
    "        print \"getting data from db\"\n",
    "        agg_df = pd.merge(df1[df1.YEAR == yoi],df2[df2.YEAR == yoi],left_on='ORIGIN',right_on='DEST')\n",
    "        agg_df = pd.merge(agg_df,airports,left_on='ORIGIN', right_on='iata')\n",
    "        agg_df.drop(['DEST','YEAR_y','iata'],axis=1,inplace=True)\n",
    "        agg_df.rename(columns={'YEAR_x':'YEAR','FLIGHTS_x':'DEP_FLIGHTS','FLIGHTS_y':'ARR_FLIGHTS','ORIGIN':'IATA',\n",
    "                              'lat':'LAT','long':'LON'}, inplace=True)\n",
    "\n",
    "        # check for missing values and replace them with the most frequent value of the same column\n",
    "        for c in agg_df.columns:\n",
    "            if agg_df[agg_df[c].isnull()].shape[0]>0:\n",
    "                ioi = agg_df[agg_df[c].isnull()].index.tolist()\n",
    "                try:\n",
    "                    most_freq = agg_df[c].mode()[0]\n",
    "                except:\n",
    "                    most_freq = 0\n",
    "                for i in ioi:\n",
    "                    agg_df.loc[i,c]= most_freq\n",
    "        # normalize data\n",
    "        agg_scaled = agg_df[agg_df.columns[2:]].copy()\n",
    "        std_scaler = StandardScaler()\n",
    "        agg_scaled = pd.DataFrame(std_scaler.fit_transform(agg_scaled))\n",
    "        agg_scaled.columns = agg_df.columns[2:]\n",
    "        uncorrelated_features = [u'SEC_DEL', u'WEA_DEL', 'LAT', 'LON']\n",
    "        agg_scaled = agg_scaled[uncorrelated_features]\n",
    "    \n",
    "    #look at the correlation\n",
    "    corr_mat = agg_scaled.corr()\n",
    "    \n",
    "    # start clustering\n",
    "    kmeans = KMeans(n_clusters=K)\n",
    "    kmeans.fit(agg_scaled)\n",
    "    centroids = kmeans.cluster_centers_\n",
    "    labels = kmeans.labels_\n",
    "    \n",
    "    agg_scaled['CLASS'] = labels\n",
    "    agg_df['CLASS'] = labels\n",
    "    agg_scaled = pd.concat([agg_df[['YEAR','IATA']],agg_df[['CLASS','LAT', 'LON']]],axis=1)\n",
    "    # combine all clusters with count <10\n",
    "    vc = agg_scaled.CLASS.value_counts()\n",
    "    s_classes = vc[vc<10].index.tolist()\n",
    "    agg_scaled.loc[agg_scaled[agg_scaled.CLASS.isin(s_classes)].index.tolist(),'CLASS'] = 10000\n",
    "    classes = sorted(pd.unique(agg_scaled.CLASS).tolist())\n",
    "    new_class = 0\n",
    "    for cl in classes:\n",
    "        agg_scaled.CLASS.replace(cl,new_class,inplace=True)\n",
    "        new_class+=1\n",
    "    \n",
    "    if gen_plots:\n",
    "        plt.imshow(corr_mat)\n",
    "        plt.show()\n",
    "        plt.hist(agg_scaled.CLASS, bins=K)\n",
    "    \n",
    "    return {'centroids':centroids, 'df':agg_scaled,'labels':labels,'corr_mat':corr_mat}\n",
    "\n",
    "def re_cluster(df):\n",
    "    classes = pd.unique(df.CLASS)\n",
    "    vcounts = df.CLASS.value_counts\n",
    "    small_classes = vcounts[vcounts<10].index.tolist()\n",
    "    "
   ]
  },
  {
   "cell_type": "markdown",
   "metadata": {},
   "source": [
    "### Preparing data for clustering\n",
    "\n",
    "#### Airports\n"
   ]
  },
  {
   "cell_type": "code",
   "execution_count": 3,
   "metadata": {
    "collapsed": false
   },
   "outputs": [],
   "source": [
    "features = [u'index',u'YEAR', u'QUARTER', u'MONTH', u'DAY_OF_MONTH', u'DAY_OF_WEEK', u'AIRLINE_ID', \n",
    "            u'CARRIER', u'TAIL_NUM', u'FL_NUM', u'ORIGIN_AIRPORT_ID', u'ORIGIN', u'ORIGIN_CITY_NAME', \n",
    "            u'ORIGIN_STATE_NM', u'DEST_AIRPORT_ID', u'DEST', u'DEST_CITY_NAME', u'DEST_STATE_NM', \n",
    "            u'DEP_DELAY', u'DEP_DELAY_NEW', u'DEP_DEL15', u'TAXI_OUT', u'TAXI_IN', u'ARR_DELAY', \n",
    "            u'ARR_DELAY_NEW', u'ARR_DEL15', u'CANCELLED', u'CANCELLATION_CODE', u'DIVERTED', u'AIR_TIME', \n",
    "            u'FLIGHTS', u'DISTANCE', u'CARRIER_DELAY', u'WEATHER_DELAY', u'NAS_DELAY', u'SECURITY_DELAY', \n",
    "            u'LATE_AIRCRAFT_DELAY',u'FL_DATE']\n",
    "years = (2010,2011,2012,2013,2014,2015)"
   ]
  },
  {
   "cell_type": "code",
   "execution_count": 4,
   "metadata": {
    "collapsed": true
   },
   "outputs": [],
   "source": [
    "# load airports data\n",
    "airports = pd.read_sql_query('select iata, lat, long from airports',disk_engine)"
   ]
  },
  {
   "cell_type": "code",
   "execution_count": 5,
   "metadata": {
    "collapsed": false
   },
   "outputs": [
    {
     "name": "stdout",
     "output_type": "stream",
     "text": [
      "0:00:00.034265\n"
     ]
    }
   ],
   "source": [
    "# load all data aggregated by origin\n",
    "tic = dt.datetime.now()\n",
    "if 'agg_per_origin' in map(lambda x:x[0],conn.execute(\"select name from sqlite_master where type = 'table'\").fetchall()):\n",
    "    df1 = pd.read_sql_query(\"SELECT * FROM agg_per_origin\",disk_engine)\n",
    "    if 'index' in df1.columns:\n",
    "        df1.drop('index',axis=1,inplace=True)\n",
    "else:\n",
    "    print \"querying from raw data\"\n",
    "    df1 = pd.read_sql_query(\"SELECT YEAR, ORIGIN, SUM(FLIGHTS) AS FLIGHTS, SUM(DEP_DEL15) AS DEP_DEL, \"\n",
    "                            \"SUM(DEP_DELAY) AS DDEL1, SUM(DEP_DELAY_NEW) AS DDEL2, SUM(CANCELLED) AS CANCELLED, \"\n",
    "                            \"SUM(SECURITY_DELAY) AS SEC_DEL, SUM(CARRIER_DELAY) AS CAR_DEL, SUM(NAS_DELAY) AS NAS_DEL, \"\n",
    "                            \"SUM(WEATHER_DELAY) AS WEA_DEL, SUM(LATE_AIRCRAFT_DELAY) AS LAD_DEL \"\n",
    "                            \"FROM data \"\n",
    "                            \"GROUP BY YEAR, ORIGIN\",disk_engine)\n",
    "    df1.to_sql('agg_per_origin',conn,index=False)\n",
    "print dt.datetime.now()-tic"
   ]
  },
  {
   "cell_type": "code",
   "execution_count": 6,
   "metadata": {
    "collapsed": false
   },
   "outputs": [
    {
     "name": "stdout",
     "output_type": "stream",
     "text": [
      "0:00:00.019353\n"
     ]
    }
   ],
   "source": [
    "# load all data aggreagated by destination\n",
    "tic = dt.datetime.now()\n",
    "if 'agg_per_destination' in map(lambda x:x[0],conn.execute(\"select name from sqlite_master where type = 'table'\").fetchall()):\n",
    "    df2 = pd.read_sql_query(\"SELECT * FROM agg_per_destination\",disk_engine)\n",
    "    if 'index' in df2.columns:\n",
    "        df2.drop('index',axis=1,inplace=True)\n",
    "else:\n",
    "    print \"querying from raw data\"\n",
    "    df2 = pd.read_sql_query(\"SELECT YEAR, DEST, SUM(FLIGHTS) AS FLIGHTS, SUM(ARR_DEL15) AS ARR_DEL, \"\n",
    "                            \"SUM(ARR_DELAY) AS ADEL1, SUM(ARR_DELAY_NEW) AS ADEL2, SUM(DIVERTED) AS DIVERTED \"\n",
    "                            \"FROM data \"\n",
    "                            \"GROUP BY YEAR, DEST\",disk_engine)\n",
    "    df2.to_sql('agg_per_destination',conn,index=False)\n",
    "    \n",
    "print dt.datetime.now()-tic"
   ]
  },
  {
   "cell_type": "markdown",
   "metadata": {},
   "source": [
    "#### Airlines\n"
   ]
  },
  {
   "cell_type": "code",
   "execution_count": 7,
   "metadata": {
    "collapsed": false
   },
   "outputs": [
    {
     "name": "stdout",
     "output_type": "stream",
     "text": [
      "0:00:00.007820\n"
     ]
    }
   ],
   "source": [
    "# load data aggregated by airline\n",
    "tic = dt.datetime.now()\n",
    "if 'agg_per_airline' in map(lambda x:x[0],conn.execute(\"select name from sqlite_master where type = 'table'\").fetchall()):\n",
    "    df3 = pd.read_sql_query(\"SELECT * FROM agg_per_airline\",disk_engine)\n",
    "    if 'index' in df3.columns:\n",
    "        df3.drop('index',axis=1,inplace=True)\n",
    "else:\n",
    "    df3 = pd.read_sql_query(\"SELECT YEAR, CARRIER, SUM(FLIGHTS) AS FLIGHTS, SUM(ARR_DEL15) AS ARR_DEL, \"\n",
    "                            \"SUM(ARR_DELAY) AS ADEL1, SUM(ARR_DELAY_NEW) AS ADEL2, SUM(DIVERTED) AS DIVERTED, \"\n",
    "                            \"SUM(DEP_DEL15) AS DEP_DEL, SUM(DEP_DELAY) AS DDEL1, SUM(DEP_DELAY_NEW) AS DDEL2, \"\n",
    "                            \"SUM(CANCELLED) AS CANCELLED, SUM(SECURITY_DELAY) AS SEC_DEL, SUM(CARRIER_DELAY) AS CAR_DEL, \"\n",
    "                            \"SUM(NAS_DELAY) AS NAS_DEL, SUM(WEATHER_DELAY) AS WEA_DEL, SUM(LATE_AIRCRAFT_DELAY) AS LAD_DEL \"\n",
    "                            \"FROM data \"\n",
    "                            \"GROUP BY YEAR, CARRIER\",disk_engine)\n",
    "    df3.to_sql('agg_per_airline',conn,index=False)\n",
    "print dt.datetime.now()-tic"
   ]
  },
  {
   "cell_type": "code",
   "execution_count": 8,
   "metadata": {
    "collapsed": false
   },
   "outputs": [],
   "source": [
    "def clusterize_airlines(data,k,col_names,gen_plots=True):\n",
    "    df = data[col_names]\n",
    "    # treat missing data\n",
    "    df = impute_na(df)\n",
    "    # rescale data\n",
    "    df = rescale_data(df)['data']\n",
    "    # k cluster\n",
    "    clusters = generate_clusters(df,k)\n",
    "    data['CLASS'] = clusters['labels']\n",
    "    \n",
    "    if gen_plots:\n",
    "        data.CLASS.hist()\n",
    "        plt.show()\n",
    "    return {'data':data[['YEAR','CARRIER','CLASS']],'centroids':clusters['centroids'],'labels':clusters['labels']}\n",
    "\n",
    "def impute_na(data):\n",
    "    cols = data.columns\n",
    "    for col in cols:\n",
    "        if data[data[col].isnull()].shape[0]>0:\n",
    "            try:\n",
    "                most_freq = data[col].mode()[0]\n",
    "            except:\n",
    "                most_freq = 0\n",
    "            data.loc[data[data[col].isnull()].index.tolist(),col] = most_freq\n",
    "    return data\n",
    "\n",
    "def rescale_data(data):\n",
    "    cols = data.columns\n",
    "    s = StandardScaler()\n",
    "    data = s.fit_transform(data)\n",
    "    data = pd.DataFrame(data,columns=cols)\n",
    "    return {'data':data,'scaler':s}\n",
    "\n",
    "def generate_clusters(data,k):\n",
    "    km = KMeans(k)\n",
    "    km.fit(data)\n",
    "    centroids = km.cluster_centers_\n",
    "    labels = km.labels_\n",
    "    return {'centroids':centroids,'labels':labels}\n",
    "\n",
    "def squared_clustering_errors(data,k):\n",
    "    cl = clusterize_airlines(data,k,col_names=data.columns.tolist()[2:])\n",
    "    centroids = cl['centroids']\n",
    "    labels = cl['labels']\n",
    "    assignments =map(lambda x:centroids[x],labels)\n",
    "    return sum(map(lambda x,y:squared_distance(x,y),data[data.columns.tolist()[2:-1]].values,assignments ))\n",
    "\n",
    "def optimize_k(data,ks):\n",
    "    errors = []\n",
    "    for k in ks:\n",
    "        errors.append(squared_clustering_errors(data,k))\n",
    "    plt.plot(ks,errors)\n",
    "    plt.show()\n",
    "    return zip(ks,errors)"
   ]
  },
  {
   "cell_type": "code",
   "execution_count": 9,
   "metadata": {
    "collapsed": false
   },
   "outputs": [
    {
     "name": "stderr",
     "output_type": "stream",
     "text": [
      "/Library/Frameworks/Python.framework/Versions/2.7/lib/python2.7/site-packages/ipykernel-4.0.3-py2.7.egg/ipykernel/__main__.py:9: SettingWithCopyWarning: \n",
      "A value is trying to be set on a copy of a slice from a DataFrame.\n",
      "Try using .loc[row_indexer,col_indexer] = value instead\n",
      "\n",
      "See the caveats in the documentation: http://pandas.pydata.org/pandas-docs/stable/indexing.html#indexing-view-versus-copy\n"
     ]
    },
    {
     "data": {
      "image/png": "[encoded data removed]",
      "text/plain": [
       "<matplotlib.figure.Figure at 0x10bfde8d0>"
      ]
     },
     "metadata": {},
     "output_type": "display_data"
    }
   ],
   "source": [
    "df = df3[df3.YEAR == 2010]\n",
    "cl = clusterize_airlines(data = df,k=3,col_names=df.columns.tolist()[2:])\n",
    "#df = cl['data']\n",
    "#dd = optimize_k(df,range(2,4))\n",
    "#df[df.columns.tolist()[2:]]#.shape"
   ]
  },
  {
   "cell_type": "markdown",
   "metadata": {},
   "source": [
    "#### Flights"
   ]
  },
  {
   "cell_type": "code",
   "execution_count": 10,
   "metadata": {
    "collapsed": false
   },
   "outputs": [
    {
     "name": "stdout",
     "output_type": "stream",
     "text": [
      "0:00:00.349386\n"
     ]
    }
   ],
   "source": [
    "# load data aggregated by flight\n",
    "tic = dt.datetime.now()\n",
    "if 'agg_per_flight' in map(lambda x:x[0],conn.execute(\"select name from sqlite_master where type = 'table'\").fetchall()):\n",
    "    df4 = pd.read_sql_query(\"SELECT * FROM agg_per_flight\",disk_engine)\n",
    "    if 'index' in df4.columns:\n",
    "        df4.drop('index',axis=1,inplace=True)\n",
    "else:\n",
    "    df4 = pd.read_sql_query(\"SELECT YEAR, ORIGIN, DEST, SUM(FLIGHTS) AS FLIGHTS, SUM(ARR_DEL15) AS ARR_DEL, \"\n",
    "                            \"SUM(DISTANCE) AS DISTANCE, SUM(AIR_TIME) AS AIR_TIME, \"\n",
    "                            \"SUM(ARR_DELAY) AS ADEL1, SUM(ARR_DELAY_NEW) AS ADEL2, SUM(DIVERTED) AS DIVERTED, \"\n",
    "                            \"SUM(DEP_DEL15) AS DEP_DEL, SUM(DEP_DELAY) AS DDEL1, SUM(DEP_DELAY_NEW) AS DDEL2, \"\n",
    "                            \"SUM(CANCELLED) AS CANCELLED, SUM(SECURITY_DELAY) AS SEC_DEL, SUM(CARRIER_DELAY) AS CAR_DEL, \"\n",
    "                            \"SUM(NAS_DELAY) AS NAS_DEL, SUM(WEATHER_DELAY) AS WEA_DEL, SUM(LATE_AIRCRAFT_DELAY) AS LAD_DEL \"\n",
    "                            \"FROM data \"\n",
    "                            \"GROUP BY YEAR, ORIGIN, DEST\",disk_engine)\n",
    "    df4.to_sql('agg_per_flight',conn,index=False)\n",
    "print dt.datetime.now()-tic"
   ]
  },
  {
   "cell_type": "code",
   "execution_count": 425,
   "metadata": {
    "collapsed": false
   },
   "outputs": [],
   "source": [
    "def clusterize_flights(data,k,col_names,gen_plots=True):\n",
    "    df = data[col_names]\n",
    "    # treat missing data\n",
    "    df = impute_na(df)\n",
    "    # rescale data\n",
    "    df = rescale_data(df)['data']\n",
    "    # k cluster\n",
    "    clusters = generate_clusters(df,k)\n",
    "    data['CLASS'] = clusters['labels']\n",
    "    \n",
    "    if gen_plots:\n",
    "        data.CLASS.hist()\n",
    "        plt.show()\n",
    "    return {'data':data[['YEAR','ORIGIN','DEST','CLASS']],'centroids':clusters['centroids'],'labels':clusters['labels']}"
   ]
  },
  {
   "cell_type": "markdown",
   "metadata": {},
   "source": [
    "### Cluster analysis\n",
    "\n",
    "#### Airport"
   ]
  },
  {
   "cell_type": "code",
   "execution_count": 294,
   "metadata": {
    "collapsed": false
   },
   "outputs": [
    {
     "name": "stdout",
     "output_type": "stream",
     "text": [
      "getting data from db\n"
     ]
    },
    {
     "data": {
      "image/png": "[encoded data removed]",
      "text/plain": [
       "<matplotlib.figure.Figure at 0x1143f4710>"
      ]
     },
     "metadata": {},
     "output_type": "display_data"
    },
    {
     "data": {
      "image/png": "[encoded data removed]",
      "text/plain": [
       "<matplotlib.figure.Figure at 0x11359de50>"
      ]
     },
     "metadata": {},
     "output_type": "display_data"
    }
   ],
   "source": [
    "clst = cluster_airports(yoi=2011,K=10)\n",
    "corr_mat = clst['corr_mat']"
   ]
  },
  {
   "cell_type": "code",
   "execution_count": 433,
   "metadata": {
    "collapsed": true
   },
   "outputs": [],
   "source": [
    "#### Flights"
   ]
  },
  {
   "cell_type": "code",
   "execution_count": 303,
   "metadata": {
    "collapsed": false
   },
   "outputs": [
    {
     "name": "stdout",
     "output_type": "stream",
     "text": [
      "2010\n",
      "getting data from db\n",
      "2011\n",
      "getting data from db\n",
      "2012\n",
      "getting data from db\n",
      "2013\n",
      "getting data from db\n",
      "2014\n",
      "getting data from db\n",
      "2015\n",
      "getting data from db\n",
      "[(u'data',), (u'airports',), (u'carriers',), (u'flights',), (u'agg_per_origin',), (u'agg_per_destination',), (u'airports_cluster',)]\n"
     ]
    }
   ],
   "source": [
    "#droplist = ['DEP_FLIGHTS','DEP_DEL','DDEL1','DDEL2','CANCELLED','CAR_DEL',\n",
    "#            'NAS_DEL','ADEL1','ADEL2','LAD_DEL','DIVERTED','ARR_DEL','ARR_FLIGHTS']#,'SEC_DEL','WEA_DEL']\n",
    "#print corr_mat.drop(droplist,axis=0).drop(droplist,axis=1)\n",
    "#uncorrelated_features = corr_mat.drop(droplist,axis=0).drop(droplist,axis=1).columns.tolist()\n",
    "#inputs = clst['df'][uncorrelated_features]\n",
    "#clst = cluster_airports(yoi=2011,K=10)\n",
    "\n",
    "airports_cluster = pd.DataFrame()\n",
    "for year in years:\n",
    "    print year\n",
    "    clst = cluster_airports(yoi=year,K=10,gen_plots=False)\n",
    "    airports_cluster = pd.concat([airports_cluster,clst['df']],ignore_index=True)\n",
    "try:\n",
    "    airports_cluster.to_sql('airports_cluster',conn,index=False)\n",
    "except:\n",
    "    pass\n",
    "print conn.execute(\"select name from sqlite_master where type = 'table'\").fetchall()"
   ]
  },
  {
   "cell_type": "code",
   "execution_count": 432,
   "metadata": {
    "collapsed": false
   },
   "outputs": [
    {
     "name": "stderr",
     "output_type": "stream",
     "text": [
      "/Library/Frameworks/Python.framework/Versions/2.7/lib/python2.7/site-packages/ipykernel-4.0.3-py2.7.egg/ipykernel/__main__.py:9: SettingWithCopyWarning: \n",
      "A value is trying to be set on a copy of a slice from a DataFrame.\n",
      "Try using .loc[row_indexer,col_indexer] = value instead\n",
      "\n",
      "See the caveats in the documentation: http://pandas.pydata.org/pandas-docs/stable/indexing.html#indexing-view-versus-copy\n"
     ]
    },
    {
     "data": {
      "image/png": "[encoded data removed]",
      "text/plain": [
       "<matplotlib.figure.Figure at 0x111c77090>"
      ]
     },
     "metadata": {},
     "output_type": "display_data"
    },
    {
     "data": {
      "image/png": "[encoded data removed]",
      "text/plain": [
       "<matplotlib.figure.Figure at 0x111c7de50>"
      ]
     },
     "metadata": {},
     "output_type": "display_data"
    },
    {
     "data": {
      "image/png": "[encoded data removed]",
      "text/plain": [
       "<matplotlib.figure.Figure at 0x111967250>"
      ]
     },
     "metadata": {},
     "output_type": "display_data"
    },
    {
     "data": {
      "image/png": "[encoded data removed]",
      "text/plain": [
       "<matplotlib.figure.Figure at 0x111c7de50>"
      ]
     },
     "metadata": {},
     "output_type": "display_data"
    },
    {
     "data": {
      "image/png": "[encoded data removed]",
      "text/plain": [
       "<matplotlib.figure.Figure at 0x1118f3590>"
      ]
     },
     "metadata": {},
     "output_type": "display_data"
    },
    {
     "data": {
      "image/png": "[encoded data removed]",
      "text/plain": [
       "<matplotlib.figure.Figure at 0x1115d1d50>"
      ]
     },
     "metadata": {},
     "output_type": "display_data"
    },
    {
     "name": "stdout",
     "output_type": "stream",
     "text": [
      "[(u'data',), (u'airports',), (u'carriers',), (u'flights',), (u'agg_per_origin',), (u'agg_per_destination',), (u'airports_cluster',), (u'agg_per_airline',), (u'agg_per_flight',), (u'flight_cluster',)]\n"
     ]
    }
   ],
   "source": [
    "#df = clusterize_flights(df4[df4.YEAR==2010],k=200,col_names=df4.columns[3:])\n",
    "flight_cluster = pd.DataFrame()\n",
    "for year in years:\n",
    "    df = df4[df4.YEAR == year]\n",
    "    df = clusterize_flights(df,k=200,col_names=df.columns[3:])\n",
    "    flight_cluster = pd.concat([flight_cluster,df['data']], ignore_index=True,gen_plots=False)\n",
    "flight_cluster.to_sql('flight_cluster',conn,index=False)\n",
    "try:\n",
    "    print conn.execute(\"select name from sqlite_master where type = 'table'\").fetchall()\n",
    "except:\n",
    "    pass"
   ]
  },
  {
   "cell_type": "code",
   "execution_count": 8,
   "metadata": {
    "collapsed": false
   },
   "outputs": [
    {
     "data": {
      "text/plain": [
       "True"
      ]
     },
     "execution_count": 8,
     "metadata": {},
     "output_type": "execute_result"
    }
   ],
   "source": [
    "type('cscs') is str"
   ]
  },
  {
   "cell_type": "code",
   "execution_count": null,
   "metadata": {
    "collapsed": true
   },
   "outputs": [],
   "source": []
  }
 ],
 "metadata": {
  "kernelspec": {
   "display_name": "Python 2",
   "language": "python",
   "name": "python2"
  },
  "language_info": {
   "codemirror_mode": {
    "name": "ipython",
    "version": 2
   },
   "file_extension": ".py",
   "mimetype": "text/x-python",
   "name": "python",
   "nbconvert_exporter": "python",
   "pygments_lexer": "ipython2",
   "version": "2.7.10"
  }
 },
 "nbformat": 4,
 "nbformat_minor": 0
}

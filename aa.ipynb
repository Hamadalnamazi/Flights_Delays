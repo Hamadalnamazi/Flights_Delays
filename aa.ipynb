{
 "cells": [
  {
   "cell_type": "code",
   "execution_count": 2,
   "metadata": {
    "collapsed": false
   },
   "outputs": [],
   "source": [
    "import pandas as pd\n",
    "import numpy as np\n",
    "import datetime as dt\n",
    "import colorlover as cl\n",
    "import matplotlib.pyplot as plt\n",
    "from matplotlib import cm as cmap\n",
    "import glob, os, re#, pyspark, sqlite3\n",
    "from IPython.display import Image, HTML\n",
    "from sqlalchemy import create_engine\n",
    "#from pyspark.sql import SQLContext\n",
    "#sqlctx = SQLContext(sc)\n",
    "\n",
    "import plotly \n",
    "import plotly.tools as tls\n",
    "import plotly.graph_objs as go\n",
    "ply_credentials = pd.read_csv('../Spotify_Challenge/plotly_credentials.csv')\n",
    "plotly.tools.set_credentials_file(username=ply_credentials.values[0][0], api_key=ply_credentials.values[0][1])\n",
    "%matplotlib inline\n",
    "\n",
    "import scipy.optimize as spo"
   ]
  },
  {
   "cell_type": "markdown",
   "metadata": {},
   "source": [
    "**Objective 1:** Investigate delays by year, month and airlines between majors hubs"
   ]
  },
  {
   "cell_type": "markdown",
   "metadata": {},
   "source": [
    "**Objective 2:** Investigate how flights that were delayed at the departure are likely to catch up with time so they arrive on time"
   ]
  },
  {
   "cell_type": "markdown",
   "metadata": {},
   "source": [
    "**Objective 3:** What are the common reasons for delays"
   ]
  },
  {
   "cell_type": "markdown",
   "metadata": {},
   "source": [
    "**Objective 4:** What are the reactions of passengers towards delays"
   ]
  },
  {
   "cell_type": "markdown",
   "metadata": {},
   "source": [
    "#### Definitions:\n",
    "\n",
    "1. Major carriers: airlines that is still operational since 2010\n",
    "\n",
    "2. Major airports: top 20 airports to host the highest number of flights over a given year"
   ]
  },
  {
   "cell_type": "markdown",
   "metadata": {},
   "source": [
    "## Preliminaries"
   ]
  },
  {
   "cell_type": "code",
   "execution_count": 3,
   "metadata": {
    "collapsed": true
   },
   "outputs": [],
   "source": [
    "years = [2010,2011,2012,2013,2014,2015,2016]"
   ]
  },
  {
   "cell_type": "code",
   "execution_count": 4,
   "metadata": {
    "collapsed": true
   },
   "outputs": [],
   "source": [
    "# initiate a connection to the database\n",
    "disk_engine = create_engine('sqlite:///../Spotify_Challenge/dbsql.db')\n",
    "cols = [u'YEAR', u'QUARTER', u'MONTH', u'DAY_OF_MONTH', u'DAY_OF_WEEK', u'AIRLINE_ID', u'CARRIER',u'TAIL_NUM', \n",
    "        u'FL_NUM', u'ORIGIN_AIRPORT_ID',u'ORIGIN', u'ORIGIN_CITY_NAME', u'ORIGIN_STATE_NM', u'DEST_AIRPORT_ID', \n",
    "        u'DEST', u'DEST_CITY_NAME', u'DEST_STATE_NM', u'DEP_DELAY', u'DEP_DELAY_NEW', u'DEP_DEL15', u'TAXI_OUT',\n",
    "        u'TAXI_IN', u'ARR_DELAY', u'ARR_DELAY_NEW', u'ARR_DEL15', u'CANCELLED', u'CANCELLATION_CODE', u'DIVERTED', \n",
    "        u'AIR_TIME', u'FLIGHTS', u'DISTANCE',u'CARRIER_DELAY', u'WEATHER_DELAY', u'NAS_DELAY', u'SECURITY_DELAY', \n",
    "        u'LATE_AIRCRAFT_DELAY', u'FL_DATE']"
   ]
  },
  {
   "cell_type": "markdown",
   "metadata": {},
   "source": [
    "#### Find major carriers"
   ]
  },
  {
   "cell_type": "code",
   "execution_count": 5,
   "metadata": {
    "collapsed": false
   },
   "outputs": [
    {
     "name": "stdout",
     "output_type": "stream",
     "text": [
      "querry performed in  0:01:28.356518\n"
     ]
    }
   ],
   "source": [
    "# get all carriers in the US\n",
    "tic = dt.datetime.now()\n",
    "df_carriers = pd.read_sql_query('SELECT DISTINCT data.YEAR as YEAR, data.CARRIER as CARRIER, carriers.Description as CARRIER_NM '\n",
    "                             'FROM data, carriers '\n",
    "                             'WHERE data.CARRIER == carriers.Code '\n",
    "                             'ORDER BY data.YEAR',\n",
    "                              disk_engine)\n",
    "print \"querry performed in \", dt.datetime.now()-tic"
   ]
  },
  {
   "cell_type": "code",
   "execution_count": 6,
   "metadata": {
    "collapsed": false
   },
   "outputs": [
    {
     "name": "stdout",
     "output_type": "stream",
     "text": [
      "querry performed in  0:02:04.112932\n"
     ]
    }
   ],
   "source": [
    "# get the yearly number of flights per carrier \n",
    "tic = dt.datetime.now()\n",
    "df_major_carriers = pd.read_sql_query(\n",
    "    'SELECT CARRIER, YEAR, COUNT(CARRIER) as CNT '\n",
    "    'FROM data '\n",
    "    'GROUP BY YEAR,CARRIER',\n",
    "     disk_engine)\n",
    "print \"querry performed in \", dt.datetime.now()-tic\n",
    "\n",
    "# transform dataframe from long to wide with CARRIER as index and YEAR as columns. For an unoperational CARRIER C\n",
    "# during YEAR Y, the corresponding cell (C,Y) will be NaN. By droping NaN, we will stay with major carrier as to the definition\n",
    "df_major_carriers = pd.pivot(index = df_major_carriers.CARRIER, columns=df_major_carriers.YEAR, values = df_major_carriers.CNT).T.dropna(axis=1).reset_index()\n",
    "df_major_carriers.index = df_major_carriers.YEAR.values\n",
    "df_major_carriers.drop('YEAR',axis=1,inplace=True)\n",
    "major_carriers = df_major_carriers.columns.tolist()"
   ]
  },
  {
   "cell_type": "code",
   "execution_count": 11,
   "metadata": {
    "collapsed": false
   },
   "outputs": [],
   "source": [
    "df_carriers = pd.read_sql_query('SELECT DISTINCT data.CARRIER as CARRIER, carriers.Description as CARRIER_NM '\n",
    "                             'FROM data, carriers '\n",
    "                             'WHERE data.CARRIER == carriers.Code ',\n",
    "                              disk_engine)"
   ]
  },
  {
   "cell_type": "code",
   "execution_count": 21,
   "metadata": {
    "collapsed": false
   },
   "outputs": [
    {
     "data": {
      "text/plain": [
       "{u'AA': u'American Airlines Inc.',\n",
       " u'AS': u'Alaska Airlines Inc.',\n",
       " u'B6': u'JetBlue Airways',\n",
       " u'DL': u'Delta Air Lines Inc.',\n",
       " u'EV': u'Atlantic Southeast Airlines',\n",
       " u'F9': u'Frontier Airlines Inc.',\n",
       " u'HA': u'Hawaiian Airlines Inc.',\n",
       " u'OO': u'Skywest Airlines Inc.',\n",
       " u'UA': u'United Air Lines Inc.',\n",
       " u'WN': u'Southwest Airlines Co.'}"
      ]
     },
     "execution_count": 21,
     "metadata": {},
     "output_type": "execute_result"
    }
   ],
   "source": [
    "dd = df_carriers.copy()\n",
    "dd.index = dd.CARRIER.values\n",
    "dd.drop('CARRIER',axis=1, inplace=True)\n",
    "dd.loc[major_carriers].to_dict()['CARRIER_NM']"
   ]
  },
  {
   "cell_type": "markdown",
   "metadata": {},
   "source": [
    "#### Find major airports"
   ]
  },
  {
   "cell_type": "code",
   "execution_count": 7,
   "metadata": {
    "collapsed": false
   },
   "outputs": [
    {
     "name": "stdout",
     "output_type": "stream",
     "text": [
      "querry done in  0:01:45.598819\n"
     ]
    }
   ],
   "source": [
    "# build airport dataframe with geo information\n",
    "# get all airports in data and join on airports\n",
    "tic = dt.datetime.now()\n",
    "df_airports = pd.read_sql_query('SELECT DISTINCT data.YEAR, data.ORIGIN, airports.airport as ORIGIN_NM, airports.city as CITY, airports.state as STATE, airports.lat as LAT, airports.long as LON '\n",
    "                             'FROM data, airports '\n",
    "                             'WHERE data.ORIGIN = airports.iata '\n",
    "                             'ORDER BY data.YEAR',\n",
    "                              disk_engine)\n",
    "print \"querry done in \", dt.datetime.now()-tic"
   ]
  },
  {
   "cell_type": "code",
   "execution_count": 8,
   "metadata": {
    "collapsed": false
   },
   "outputs": [
    {
     "name": "stdout",
     "output_type": "stream",
     "text": [
      "2010 querry done in  0:01:02.756513\n",
      "2011 querry done in  0:01:01.910077\n",
      "2012 querry done in  0:01:01.116908\n",
      "2013 querry done in  0:01:02.180950\n",
      "2014 querry done in  0:01:02.835199\n",
      "2015 querry done in  0:01:01.175321\n",
      "2016 querry done in  0:00:54.361137\n"
     ]
    }
   ],
   "source": [
    "dc_major_airports = {}\n",
    "for year in years:\n",
    "    tic = dt.datetime.now()\n",
    "    df = pd.read_sql_query('SELECT DISTINCT ORIGIN, COUNT(ORIGIN) as CNT '\n",
    "                           'FROM data '\n",
    "                           'WHERE YEAR = {0} '\n",
    "                           'GROUP BY ORIGIN '\n",
    "                           'ORDER BY CNT DESC '\n",
    "                           'LIMIT 20'.format(year),\n",
    "                           disk_engine)\n",
    "    dc_major_airports[year] = pd.Series(index=df.ORIGIN.tolist(), data=df.CNT.tolist())\n",
    "    print year,\"querry done in \", dt.datetime.now()-tic\n",
    "\n",
    "# create a list of major airports\n",
    "major_airports = []\n",
    "for k,v in dc_major_airports.iteritems():\n",
    "    major_airports = major_airports+v.index.tolist()\n",
    "major_airports=tuple(set(major_airports))"
   ]
  },
  {
   "cell_type": "code",
   "execution_count": 26,
   "metadata": {
    "collapsed": false
   },
   "outputs": [
    {
     "data": {
      "text/html": [
       "<div>\n",
       "<table border=\"1\" class=\"dataframe\">\n",
       "  <thead>\n",
       "    <tr style=\"text-align: right;\">\n",
       "      <th></th>\n",
       "      <th>YEAR</th>\n",
       "      <th>ORIGIN</th>\n",
       "      <th>ORIGIN_NM</th>\n",
       "      <th>CITY</th>\n",
       "      <th>STATE</th>\n",
       "      <th>LAT</th>\n",
       "      <th>LON</th>\n",
       "    </tr>\n",
       "  </thead>\n",
       "  <tbody>\n",
       "    <tr>\n",
       "      <th>0</th>\n",
       "      <td>2010</td>\n",
       "      <td>JFK</td>\n",
       "      <td>John F Kennedy Intl</td>\n",
       "      <td>New York</td>\n",
       "      <td>NY</td>\n",
       "      <td>40.639751</td>\n",
       "      <td>-73.778926</td>\n",
       "    </tr>\n",
       "    <tr>\n",
       "      <th>1</th>\n",
       "      <td>2010</td>\n",
       "      <td>ATL</td>\n",
       "      <td>William B Hartsfield-Atlanta Intl</td>\n",
       "      <td>Atlanta</td>\n",
       "      <td>GA</td>\n",
       "      <td>33.640444</td>\n",
       "      <td>-84.426944</td>\n",
       "    </tr>\n",
       "    <tr>\n",
       "      <th>2</th>\n",
       "      <td>2010</td>\n",
       "      <td>LAX</td>\n",
       "      <td>Los Angeles International</td>\n",
       "      <td>Los Angeles</td>\n",
       "      <td>CA</td>\n",
       "      <td>33.942536</td>\n",
       "      <td>-118.408074</td>\n",
       "    </tr>\n",
       "    <tr>\n",
       "      <th>3</th>\n",
       "      <td>2010</td>\n",
       "      <td>DTW</td>\n",
       "      <td>Detroit Metropolitan-Wayne County</td>\n",
       "      <td>Detroit</td>\n",
       "      <td>MI</td>\n",
       "      <td>42.212059</td>\n",
       "      <td>-83.348836</td>\n",
       "    </tr>\n",
       "    <tr>\n",
       "      <th>4</th>\n",
       "      <td>2010</td>\n",
       "      <td>SLC</td>\n",
       "      <td>Salt Lake City Intl</td>\n",
       "      <td>Salt Lake City</td>\n",
       "      <td>UT</td>\n",
       "      <td>40.788388</td>\n",
       "      <td>-111.977773</td>\n",
       "    </tr>\n",
       "    <tr>\n",
       "      <th>5</th>\n",
       "      <td>2010</td>\n",
       "      <td>BOS</td>\n",
       "      <td>Gen Edw L Logan Intl</td>\n",
       "      <td>Boston</td>\n",
       "      <td>MA</td>\n",
       "      <td>42.364348</td>\n",
       "      <td>-71.005179</td>\n",
       "    </tr>\n",
       "    <tr>\n",
       "      <th>6</th>\n",
       "      <td>2010</td>\n",
       "      <td>IAH</td>\n",
       "      <td>George Bush Intercontinental</td>\n",
       "      <td>Houston</td>\n",
       "      <td>TX</td>\n",
       "      <td>29.980472</td>\n",
       "      <td>-95.339722</td>\n",
       "    </tr>\n",
       "    <tr>\n",
       "      <th>7</th>\n",
       "      <td>2010</td>\n",
       "      <td>TPA</td>\n",
       "      <td>Tampa International</td>\n",
       "      <td>Tampa</td>\n",
       "      <td>FL</td>\n",
       "      <td>27.975472</td>\n",
       "      <td>-82.533250</td>\n",
       "    </tr>\n",
       "    <tr>\n",
       "      <th>8</th>\n",
       "      <td>2010</td>\n",
       "      <td>LAS</td>\n",
       "      <td>McCarran International</td>\n",
       "      <td>Las Vegas</td>\n",
       "      <td>NV</td>\n",
       "      <td>36.080361</td>\n",
       "      <td>-115.152333</td>\n",
       "    </tr>\n",
       "    <tr>\n",
       "      <th>9</th>\n",
       "      <td>2010</td>\n",
       "      <td>MCO</td>\n",
       "      <td>Orlando International</td>\n",
       "      <td>Orlando</td>\n",
       "      <td>FL</td>\n",
       "      <td>28.428889</td>\n",
       "      <td>-81.316028</td>\n",
       "    </tr>\n",
       "    <tr>\n",
       "      <th>10</th>\n",
       "      <td>2010</td>\n",
       "      <td>SEA</td>\n",
       "      <td>Seattle-Tacoma Intl</td>\n",
       "      <td>Seattle</td>\n",
       "      <td>WA</td>\n",
       "      <td>47.448982</td>\n",
       "      <td>-122.309313</td>\n",
       "    </tr>\n",
       "    <tr>\n",
       "      <th>11</th>\n",
       "      <td>2010</td>\n",
       "      <td>DFW</td>\n",
       "      <td>Dallas-Fort Worth International</td>\n",
       "      <td>Dallas-Fort Worth</td>\n",
       "      <td>TX</td>\n",
       "      <td>32.895951</td>\n",
       "      <td>-97.037200</td>\n",
       "    </tr>\n",
       "    <tr>\n",
       "      <th>12</th>\n",
       "      <td>2010</td>\n",
       "      <td>SFO</td>\n",
       "      <td>San Francisco International</td>\n",
       "      <td>San Francisco</td>\n",
       "      <td>CA</td>\n",
       "      <td>37.619002</td>\n",
       "      <td>-122.374843</td>\n",
       "    </tr>\n",
       "    <tr>\n",
       "      <th>13</th>\n",
       "      <td>2010</td>\n",
       "      <td>MIA</td>\n",
       "      <td>Miami International</td>\n",
       "      <td>Miami</td>\n",
       "      <td>FL</td>\n",
       "      <td>25.793250</td>\n",
       "      <td>-80.290556</td>\n",
       "    </tr>\n",
       "    <tr>\n",
       "      <th>14</th>\n",
       "      <td>2010</td>\n",
       "      <td>DEN</td>\n",
       "      <td>Denver Intl</td>\n",
       "      <td>Denver</td>\n",
       "      <td>CO</td>\n",
       "      <td>39.858408</td>\n",
       "      <td>-104.667002</td>\n",
       "    </tr>\n",
       "    <tr>\n",
       "      <th>15</th>\n",
       "      <td>2010</td>\n",
       "      <td>FLL</td>\n",
       "      <td>Fort Lauderdale-Hollywood Int'l</td>\n",
       "      <td>Ft. Lauderdale</td>\n",
       "      <td>FL</td>\n",
       "      <td>26.072583</td>\n",
       "      <td>-80.152750</td>\n",
       "    </tr>\n",
       "    <tr>\n",
       "      <th>16</th>\n",
       "      <td>2010</td>\n",
       "      <td>SAN</td>\n",
       "      <td>San Diego International-Lindbergh</td>\n",
       "      <td>San Diego</td>\n",
       "      <td>CA</td>\n",
       "      <td>32.733556</td>\n",
       "      <td>-117.189657</td>\n",
       "    </tr>\n",
       "    <tr>\n",
       "      <th>17</th>\n",
       "      <td>2010</td>\n",
       "      <td>EWR</td>\n",
       "      <td>Newark Intl</td>\n",
       "      <td>Newark</td>\n",
       "      <td>NJ</td>\n",
       "      <td>40.692497</td>\n",
       "      <td>-74.168661</td>\n",
       "    </tr>\n",
       "    <tr>\n",
       "      <th>18</th>\n",
       "      <td>2010</td>\n",
       "      <td>BDL</td>\n",
       "      <td>Bradley International</td>\n",
       "      <td>Windsor Locks</td>\n",
       "      <td>CT</td>\n",
       "      <td>41.938874</td>\n",
       "      <td>-72.683228</td>\n",
       "    </tr>\n",
       "    <tr>\n",
       "      <th>19</th>\n",
       "      <td>2010</td>\n",
       "      <td>BWI</td>\n",
       "      <td>Baltimore-Washington International</td>\n",
       "      <td>Baltimore</td>\n",
       "      <td>MD</td>\n",
       "      <td>39.175402</td>\n",
       "      <td>-76.668198</td>\n",
       "    </tr>\n",
       "    <tr>\n",
       "      <th>20</th>\n",
       "      <td>2010</td>\n",
       "      <td>IAD</td>\n",
       "      <td>Washington Dulles International</td>\n",
       "      <td>Chantilly</td>\n",
       "      <td>VA</td>\n",
       "      <td>38.944532</td>\n",
       "      <td>-77.455810</td>\n",
       "    </tr>\n",
       "    <tr>\n",
       "      <th>21</th>\n",
       "      <td>2010</td>\n",
       "      <td>BUF</td>\n",
       "      <td>Buffalo Niagara Intl</td>\n",
       "      <td>Buffalo</td>\n",
       "      <td>NY</td>\n",
       "      <td>42.940525</td>\n",
       "      <td>-78.732167</td>\n",
       "    </tr>\n",
       "    <tr>\n",
       "      <th>22</th>\n",
       "      <td>2010</td>\n",
       "      <td>ORD</td>\n",
       "      <td>Chicago O'Hare International</td>\n",
       "      <td>Chicago</td>\n",
       "      <td>IL</td>\n",
       "      <td>41.979595</td>\n",
       "      <td>-87.904464</td>\n",
       "    </tr>\n",
       "    <tr>\n",
       "      <th>23</th>\n",
       "      <td>2010</td>\n",
       "      <td>CVG</td>\n",
       "      <td>Cincinnati Northern Kentucky Intl</td>\n",
       "      <td>Covington</td>\n",
       "      <td>KY</td>\n",
       "      <td>39.046143</td>\n",
       "      <td>-84.662172</td>\n",
       "    </tr>\n",
       "    <tr>\n",
       "      <th>24</th>\n",
       "      <td>2010</td>\n",
       "      <td>SJU</td>\n",
       "      <td>Luis Munoz Marin International</td>\n",
       "      <td>San Juan</td>\n",
       "      <td>PR</td>\n",
       "      <td>18.439417</td>\n",
       "      <td>-66.001833</td>\n",
       "    </tr>\n",
       "    <tr>\n",
       "      <th>25</th>\n",
       "      <td>2010</td>\n",
       "      <td>MSY</td>\n",
       "      <td>New Orleans International</td>\n",
       "      <td>New Orleans</td>\n",
       "      <td>LA</td>\n",
       "      <td>29.993389</td>\n",
       "      <td>-90.258028</td>\n",
       "    </tr>\n",
       "    <tr>\n",
       "      <th>26</th>\n",
       "      <td>2010</td>\n",
       "      <td>LGA</td>\n",
       "      <td>LaGuardia</td>\n",
       "      <td>New York</td>\n",
       "      <td>NY</td>\n",
       "      <td>40.777243</td>\n",
       "      <td>-73.872609</td>\n",
       "    </tr>\n",
       "    <tr>\n",
       "      <th>27</th>\n",
       "      <td>2010</td>\n",
       "      <td>MEM</td>\n",
       "      <td>Memphis International</td>\n",
       "      <td>Memphis</td>\n",
       "      <td>TN</td>\n",
       "      <td>35.042417</td>\n",
       "      <td>-89.976667</td>\n",
       "    </tr>\n",
       "    <tr>\n",
       "      <th>28</th>\n",
       "      <td>2010</td>\n",
       "      <td>CMH</td>\n",
       "      <td>Port Columbus Intl</td>\n",
       "      <td>Columbus</td>\n",
       "      <td>OH</td>\n",
       "      <td>39.997985</td>\n",
       "      <td>-82.891883</td>\n",
       "    </tr>\n",
       "    <tr>\n",
       "      <th>29</th>\n",
       "      <td>2010</td>\n",
       "      <td>STT</td>\n",
       "      <td>Cyril E. King</td>\n",
       "      <td>Charlotte Amalie</td>\n",
       "      <td>VI</td>\n",
       "      <td>18.337306</td>\n",
       "      <td>-64.973361</td>\n",
       "    </tr>\n",
       "    <tr>\n",
       "      <th>...</th>\n",
       "      <td>...</td>\n",
       "      <td>...</td>\n",
       "      <td>...</td>\n",
       "      <td>...</td>\n",
       "      <td>...</td>\n",
       "      <td>...</td>\n",
       "      <td>...</td>\n",
       "    </tr>\n",
       "    <tr>\n",
       "      <th>2129</th>\n",
       "      <td>2016</td>\n",
       "      <td>CDC</td>\n",
       "      <td>Cedar City Muni</td>\n",
       "      <td>Cedar City</td>\n",
       "      <td>UT</td>\n",
       "      <td>37.700970</td>\n",
       "      <td>-113.098575</td>\n",
       "    </tr>\n",
       "    <tr>\n",
       "      <th>2130</th>\n",
       "      <td>2016</td>\n",
       "      <td>OTH</td>\n",
       "      <td>North Bend Muni</td>\n",
       "      <td>North Bend</td>\n",
       "      <td>OR</td>\n",
       "      <td>43.417139</td>\n",
       "      <td>-124.246028</td>\n",
       "    </tr>\n",
       "    <tr>\n",
       "      <th>2131</th>\n",
       "      <td>2016</td>\n",
       "      <td>GNV</td>\n",
       "      <td>Gainesville Regional</td>\n",
       "      <td>Gainesville</td>\n",
       "      <td>FL</td>\n",
       "      <td>29.690056</td>\n",
       "      <td>-82.271778</td>\n",
       "    </tr>\n",
       "    <tr>\n",
       "      <th>2132</th>\n",
       "      <td>2016</td>\n",
       "      <td>MEI</td>\n",
       "      <td>Key</td>\n",
       "      <td>Meridian</td>\n",
       "      <td>MS</td>\n",
       "      <td>32.333133</td>\n",
       "      <td>-88.751206</td>\n",
       "    </tr>\n",
       "    <tr>\n",
       "      <th>2133</th>\n",
       "      <td>2016</td>\n",
       "      <td>PIB</td>\n",
       "      <td>Hattiesburg-Laurel Regional</td>\n",
       "      <td>Hattiesburg-Laurel</td>\n",
       "      <td>MS</td>\n",
       "      <td>31.467149</td>\n",
       "      <td>-89.337058</td>\n",
       "    </tr>\n",
       "    <tr>\n",
       "      <th>2134</th>\n",
       "      <td>2016</td>\n",
       "      <td>BPT</td>\n",
       "      <td>Southeast Texas Regional</td>\n",
       "      <td>Beaumont/Port Arthur</td>\n",
       "      <td>TX</td>\n",
       "      <td>29.950833</td>\n",
       "      <td>-94.020694</td>\n",
       "    </tr>\n",
       "    <tr>\n",
       "      <th>2135</th>\n",
       "      <td>2016</td>\n",
       "      <td>LAW</td>\n",
       "      <td>Lawton-Ft Sill Regional</td>\n",
       "      <td>Lawton</td>\n",
       "      <td>OK</td>\n",
       "      <td>34.567714</td>\n",
       "      <td>-98.416637</td>\n",
       "    </tr>\n",
       "    <tr>\n",
       "      <th>2136</th>\n",
       "      <td>2016</td>\n",
       "      <td>AEX</td>\n",
       "      <td>Alexandria International</td>\n",
       "      <td>Alexandria</td>\n",
       "      <td>LA</td>\n",
       "      <td>31.327372</td>\n",
       "      <td>-92.548556</td>\n",
       "    </tr>\n",
       "    <tr>\n",
       "      <th>2137</th>\n",
       "      <td>2016</td>\n",
       "      <td>TXK</td>\n",
       "      <td>Texarkana Regional-Webb</td>\n",
       "      <td>Texarkana</td>\n",
       "      <td>AR</td>\n",
       "      <td>33.453708</td>\n",
       "      <td>-93.991020</td>\n",
       "    </tr>\n",
       "    <tr>\n",
       "      <th>2138</th>\n",
       "      <td>2016</td>\n",
       "      <td>ROW</td>\n",
       "      <td>Roswell Industrial Air Center</td>\n",
       "      <td>Roswell</td>\n",
       "      <td>NM</td>\n",
       "      <td>33.301556</td>\n",
       "      <td>-104.530556</td>\n",
       "    </tr>\n",
       "    <tr>\n",
       "      <th>2139</th>\n",
       "      <td>2016</td>\n",
       "      <td>ERI</td>\n",
       "      <td>Erie Intl</td>\n",
       "      <td>Erie</td>\n",
       "      <td>PA</td>\n",
       "      <td>42.082021</td>\n",
       "      <td>-80.176216</td>\n",
       "    </tr>\n",
       "    <tr>\n",
       "      <th>2140</th>\n",
       "      <td>2016</td>\n",
       "      <td>CLL</td>\n",
       "      <td>Easterwood</td>\n",
       "      <td>College Station</td>\n",
       "      <td>TX</td>\n",
       "      <td>30.588589</td>\n",
       "      <td>-96.363824</td>\n",
       "    </tr>\n",
       "    <tr>\n",
       "      <th>2141</th>\n",
       "      <td>2016</td>\n",
       "      <td>HOB</td>\n",
       "      <td>Lea County Regional</td>\n",
       "      <td>Hobbs</td>\n",
       "      <td>NM</td>\n",
       "      <td>32.687528</td>\n",
       "      <td>-103.217028</td>\n",
       "    </tr>\n",
       "    <tr>\n",
       "      <th>2142</th>\n",
       "      <td>2016</td>\n",
       "      <td>LCH</td>\n",
       "      <td>Lake Charles Regional</td>\n",
       "      <td>Lake Charles</td>\n",
       "      <td>LA</td>\n",
       "      <td>30.126098</td>\n",
       "      <td>-93.223404</td>\n",
       "    </tr>\n",
       "    <tr>\n",
       "      <th>2143</th>\n",
       "      <td>2016</td>\n",
       "      <td>SCE</td>\n",
       "      <td>University Park</td>\n",
       "      <td>None</td>\n",
       "      <td>None</td>\n",
       "      <td>40.851206</td>\n",
       "      <td>-77.846302</td>\n",
       "    </tr>\n",
       "    <tr>\n",
       "      <th>2144</th>\n",
       "      <td>2016</td>\n",
       "      <td>CWA</td>\n",
       "      <td>Central Wisconsin</td>\n",
       "      <td>Mosinee</td>\n",
       "      <td>WI</td>\n",
       "      <td>44.777619</td>\n",
       "      <td>-89.666779</td>\n",
       "    </tr>\n",
       "    <tr>\n",
       "      <th>2145</th>\n",
       "      <td>2016</td>\n",
       "      <td>OAJ</td>\n",
       "      <td>Albert J Ellis</td>\n",
       "      <td>Jacksonville</td>\n",
       "      <td>NC</td>\n",
       "      <td>34.829164</td>\n",
       "      <td>-77.612138</td>\n",
       "    </tr>\n",
       "    <tr>\n",
       "      <th>2146</th>\n",
       "      <td>2016</td>\n",
       "      <td>ELM</td>\n",
       "      <td>Elmira/Corning Regional</td>\n",
       "      <td>Elmira</td>\n",
       "      <td>NY</td>\n",
       "      <td>42.159914</td>\n",
       "      <td>-76.891443</td>\n",
       "    </tr>\n",
       "    <tr>\n",
       "      <th>2147</th>\n",
       "      <td>2016</td>\n",
       "      <td>VLD</td>\n",
       "      <td>Valdosta Regional</td>\n",
       "      <td>Valdosta</td>\n",
       "      <td>GA</td>\n",
       "      <td>30.782500</td>\n",
       "      <td>-83.276722</td>\n",
       "    </tr>\n",
       "    <tr>\n",
       "      <th>2148</th>\n",
       "      <td>2016</td>\n",
       "      <td>MGM</td>\n",
       "      <td>Montgomery Regional Apt</td>\n",
       "      <td>Montgomery</td>\n",
       "      <td>AL</td>\n",
       "      <td>32.300644</td>\n",
       "      <td>-86.393976</td>\n",
       "    </tr>\n",
       "    <tr>\n",
       "      <th>2149</th>\n",
       "      <td>2016</td>\n",
       "      <td>BGR</td>\n",
       "      <td>Bangor International</td>\n",
       "      <td>Bangor</td>\n",
       "      <td>ME</td>\n",
       "      <td>44.807444</td>\n",
       "      <td>-68.828139</td>\n",
       "    </tr>\n",
       "    <tr>\n",
       "      <th>2150</th>\n",
       "      <td>2016</td>\n",
       "      <td>GTR</td>\n",
       "      <td>Golden Triangle Regional</td>\n",
       "      <td>Columbus-Starkville-West Point</td>\n",
       "      <td>MS</td>\n",
       "      <td>33.450334</td>\n",
       "      <td>-88.591369</td>\n",
       "    </tr>\n",
       "    <tr>\n",
       "      <th>2151</th>\n",
       "      <td>2016</td>\n",
       "      <td>CSG</td>\n",
       "      <td>Columbus Metropolitan</td>\n",
       "      <td>Columbus</td>\n",
       "      <td>GA</td>\n",
       "      <td>32.516333</td>\n",
       "      <td>-84.938861</td>\n",
       "    </tr>\n",
       "    <tr>\n",
       "      <th>2152</th>\n",
       "      <td>2016</td>\n",
       "      <td>BQK</td>\n",
       "      <td>Glynco Jetport</td>\n",
       "      <td>Brunswick</td>\n",
       "      <td>GA</td>\n",
       "      <td>31.259028</td>\n",
       "      <td>-81.466306</td>\n",
       "    </tr>\n",
       "    <tr>\n",
       "      <th>2153</th>\n",
       "      <td>2016</td>\n",
       "      <td>DHN</td>\n",
       "      <td>Dothan</td>\n",
       "      <td>Dothan</td>\n",
       "      <td>AL</td>\n",
       "      <td>31.321339</td>\n",
       "      <td>-85.449629</td>\n",
       "    </tr>\n",
       "    <tr>\n",
       "      <th>2154</th>\n",
       "      <td>2016</td>\n",
       "      <td>EWN</td>\n",
       "      <td>Craven County Regional</td>\n",
       "      <td>New Bern</td>\n",
       "      <td>NC</td>\n",
       "      <td>35.072972</td>\n",
       "      <td>-77.042944</td>\n",
       "    </tr>\n",
       "    <tr>\n",
       "      <th>2155</th>\n",
       "      <td>2016</td>\n",
       "      <td>ABY</td>\n",
       "      <td>Southwest Georgia Regional</td>\n",
       "      <td>Albany</td>\n",
       "      <td>GA</td>\n",
       "      <td>31.535515</td>\n",
       "      <td>-84.194473</td>\n",
       "    </tr>\n",
       "    <tr>\n",
       "      <th>2156</th>\n",
       "      <td>2016</td>\n",
       "      <td>SPS</td>\n",
       "      <td>Sheppard AFB/Wichita Falls Municipal</td>\n",
       "      <td>Wichita Falls</td>\n",
       "      <td>TX</td>\n",
       "      <td>33.988796</td>\n",
       "      <td>-98.491893</td>\n",
       "    </tr>\n",
       "    <tr>\n",
       "      <th>2157</th>\n",
       "      <td>2016</td>\n",
       "      <td>SJT</td>\n",
       "      <td>San Angelo Regional /Mathis</td>\n",
       "      <td>San Angelo</td>\n",
       "      <td>TX</td>\n",
       "      <td>31.357750</td>\n",
       "      <td>-100.496306</td>\n",
       "    </tr>\n",
       "    <tr>\n",
       "      <th>2158</th>\n",
       "      <td>2016</td>\n",
       "      <td>GGG</td>\n",
       "      <td>Gregg County</td>\n",
       "      <td>Longview</td>\n",
       "      <td>TX</td>\n",
       "      <td>32.384861</td>\n",
       "      <td>-94.711710</td>\n",
       "    </tr>\n",
       "  </tbody>\n",
       "</table>\n",
       "<p>2159 rows × 7 columns</p>\n",
       "</div>"
      ],
      "text/plain": [
       "      YEAR ORIGIN                             ORIGIN_NM  \\\n",
       "0     2010    JFK                   John F Kennedy Intl   \n",
       "1     2010    ATL     William B Hartsfield-Atlanta Intl   \n",
       "2     2010    LAX             Los Angeles International   \n",
       "3     2010    DTW     Detroit Metropolitan-Wayne County   \n",
       "4     2010    SLC                   Salt Lake City Intl   \n",
       "5     2010    BOS                  Gen Edw L Logan Intl   \n",
       "6     2010    IAH          George Bush Intercontinental   \n",
       "7     2010    TPA                  Tampa International    \n",
       "8     2010    LAS                McCarran International   \n",
       "9     2010    MCO                 Orlando International   \n",
       "10    2010    SEA                   Seattle-Tacoma Intl   \n",
       "11    2010    DFW       Dallas-Fort Worth International   \n",
       "12    2010    SFO           San Francisco International   \n",
       "13    2010    MIA                   Miami International   \n",
       "14    2010    DEN                           Denver Intl   \n",
       "15    2010    FLL       Fort Lauderdale-Hollywood Int'l   \n",
       "16    2010    SAN    San Diego International-Lindbergh    \n",
       "17    2010    EWR                           Newark Intl   \n",
       "18    2010    BDL                 Bradley International   \n",
       "19    2010    BWI    Baltimore-Washington International   \n",
       "20    2010    IAD       Washington Dulles International   \n",
       "21    2010    BUF                  Buffalo Niagara Intl   \n",
       "22    2010    ORD          Chicago O'Hare International   \n",
       "23    2010    CVG     Cincinnati Northern Kentucky Intl   \n",
       "24    2010    SJU        Luis Munoz Marin International   \n",
       "25    2010    MSY            New Orleans International    \n",
       "26    2010    LGA                             LaGuardia   \n",
       "27    2010    MEM                 Memphis International   \n",
       "28    2010    CMH                    Port Columbus Intl   \n",
       "29    2010    STT                         Cyril E. King   \n",
       "...    ...    ...                                   ...   \n",
       "2129  2016    CDC                       Cedar City Muni   \n",
       "2130  2016    OTH                       North Bend Muni   \n",
       "2131  2016    GNV                  Gainesville Regional   \n",
       "2132  2016    MEI                                  Key    \n",
       "2133  2016    PIB           Hattiesburg-Laurel Regional   \n",
       "2134  2016    BPT              Southeast Texas Regional   \n",
       "2135  2016    LAW               Lawton-Ft Sill Regional   \n",
       "2136  2016    AEX              Alexandria International   \n",
       "2137  2016    TXK              Texarkana Regional-Webb    \n",
       "2138  2016    ROW         Roswell Industrial Air Center   \n",
       "2139  2016    ERI                             Erie Intl   \n",
       "2140  2016    CLL                           Easterwood    \n",
       "2141  2016    HOB                   Lea County Regional   \n",
       "2142  2016    LCH                 Lake Charles Regional   \n",
       "2143  2016    SCE                       University Park   \n",
       "2144  2016    CWA                     Central Wisconsin   \n",
       "2145  2016    OAJ                        Albert J Ellis   \n",
       "2146  2016    ELM               Elmira/Corning Regional   \n",
       "2147  2016    VLD                     Valdosta Regional   \n",
       "2148  2016    MGM               Montgomery Regional Apt   \n",
       "2149  2016    BGR                  Bangor International   \n",
       "2150  2016    GTR              Golden Triangle Regional   \n",
       "2151  2016    CSG                 Columbus Metropolitan   \n",
       "2152  2016    BQK                        Glynco Jetport   \n",
       "2153  2016    DHN                               Dothan    \n",
       "2154  2016    EWN                Craven County Regional   \n",
       "2155  2016    ABY            Southwest Georgia Regional   \n",
       "2156  2016    SPS  Sheppard AFB/Wichita Falls Municipal   \n",
       "2157  2016    SJT          San Angelo Regional /Mathis    \n",
       "2158  2016    GGG                          Gregg County   \n",
       "\n",
       "                                CITY STATE        LAT         LON  \n",
       "0                           New York    NY  40.639751  -73.778926  \n",
       "1                            Atlanta    GA  33.640444  -84.426944  \n",
       "2                        Los Angeles    CA  33.942536 -118.408074  \n",
       "3                            Detroit    MI  42.212059  -83.348836  \n",
       "4                     Salt Lake City    UT  40.788388 -111.977773  \n",
       "5                             Boston    MA  42.364348  -71.005179  \n",
       "6                            Houston    TX  29.980472  -95.339722  \n",
       "7                              Tampa    FL  27.975472  -82.533250  \n",
       "8                          Las Vegas    NV  36.080361 -115.152333  \n",
       "9                            Orlando    FL  28.428889  -81.316028  \n",
       "10                           Seattle    WA  47.448982 -122.309313  \n",
       "11                 Dallas-Fort Worth    TX  32.895951  -97.037200  \n",
       "12                     San Francisco    CA  37.619002 -122.374843  \n",
       "13                             Miami    FL  25.793250  -80.290556  \n",
       "14                            Denver    CO  39.858408 -104.667002  \n",
       "15                    Ft. Lauderdale    FL  26.072583  -80.152750  \n",
       "16                         San Diego    CA  32.733556 -117.189657  \n",
       "17                            Newark    NJ  40.692497  -74.168661  \n",
       "18                     Windsor Locks    CT  41.938874  -72.683228  \n",
       "19                         Baltimore    MD  39.175402  -76.668198  \n",
       "20                         Chantilly    VA  38.944532  -77.455810  \n",
       "21                           Buffalo    NY  42.940525  -78.732167  \n",
       "22                           Chicago    IL  41.979595  -87.904464  \n",
       "23                         Covington    KY  39.046143  -84.662172  \n",
       "24                          San Juan    PR  18.439417  -66.001833  \n",
       "25                       New Orleans    LA  29.993389  -90.258028  \n",
       "26                          New York    NY  40.777243  -73.872609  \n",
       "27                           Memphis    TN  35.042417  -89.976667  \n",
       "28                          Columbus    OH  39.997985  -82.891883  \n",
       "29                  Charlotte Amalie    VI  18.337306  -64.973361  \n",
       "...                              ...   ...        ...         ...  \n",
       "2129                      Cedar City    UT  37.700970 -113.098575  \n",
       "2130                      North Bend    OR  43.417139 -124.246028  \n",
       "2131                     Gainesville    FL  29.690056  -82.271778  \n",
       "2132                        Meridian    MS  32.333133  -88.751206  \n",
       "2133              Hattiesburg-Laurel    MS  31.467149  -89.337058  \n",
       "2134            Beaumont/Port Arthur    TX  29.950833  -94.020694  \n",
       "2135                          Lawton    OK  34.567714  -98.416637  \n",
       "2136                      Alexandria    LA  31.327372  -92.548556  \n",
       "2137                       Texarkana    AR  33.453708  -93.991020  \n",
       "2138                         Roswell    NM  33.301556 -104.530556  \n",
       "2139                            Erie    PA  42.082021  -80.176216  \n",
       "2140                 College Station    TX  30.588589  -96.363824  \n",
       "2141                           Hobbs    NM  32.687528 -103.217028  \n",
       "2142                    Lake Charles    LA  30.126098  -93.223404  \n",
       "2143                            None  None  40.851206  -77.846302  \n",
       "2144                         Mosinee    WI  44.777619  -89.666779  \n",
       "2145                    Jacksonville    NC  34.829164  -77.612138  \n",
       "2146                          Elmira    NY  42.159914  -76.891443  \n",
       "2147                        Valdosta    GA  30.782500  -83.276722  \n",
       "2148                      Montgomery    AL  32.300644  -86.393976  \n",
       "2149                          Bangor    ME  44.807444  -68.828139  \n",
       "2150  Columbus-Starkville-West Point    MS  33.450334  -88.591369  \n",
       "2151                        Columbus    GA  32.516333  -84.938861  \n",
       "2152                       Brunswick    GA  31.259028  -81.466306  \n",
       "2153                          Dothan    AL  31.321339  -85.449629  \n",
       "2154                        New Bern    NC  35.072972  -77.042944  \n",
       "2155                          Albany    GA  31.535515  -84.194473  \n",
       "2156                   Wichita Falls    TX  33.988796  -98.491893  \n",
       "2157                      San Angelo    TX  31.357750 -100.496306  \n",
       "2158                        Longview    TX  32.384861  -94.711710  \n",
       "\n",
       "[2159 rows x 7 columns]"
      ]
     },
     "execution_count": 26,
     "metadata": {},
     "output_type": "execute_result"
    }
   ],
   "source": [
    "df_airports"
   ]
  },
  {
   "cell_type": "markdown",
   "metadata": {},
   "source": [
    "### Objective 1 _ Yearly delays by major carriers between major airports"
   ]
  },
  {
   "cell_type": "code",
   "execution_count": 141,
   "metadata": {
    "collapsed": false
   },
   "outputs": [
    {
     "name": "stdout",
     "output_type": "stream",
     "text": [
      "querry done in  0:01:41.310947\n"
     ]
    }
   ],
   "source": [
    "# Data Preparation\n",
    "# ----------------\n",
    "# get data from database where CARRIER is in major carriers and both ORIGIN and DEST are in major airports\n",
    "# and save aggregated data\n",
    "tic = dt.datetime.now()\n",
    "agg_data = pd.read_sql_query(\n",
    "    'SELECT YEAR, MONTH, CARRIER, ORIGIN, DEST, SUM(DEP_DELAY_NEW) as DEP_DEL_DUR, '\n",
    "    'SUM(ARR_DELAY_NEW) as ARR_DEL_DUR, SUM(DEP_DEL15) as NUM_DEP_DEL15, SUM(ARR_DEL15) as NUM_ARR_DEL15, '\n",
    "    'SUM(CANCELLED) as NUM_CANCELLED, SUM(FLIGHTS) as NUM_FLIGHTS '\n",
    "    'FROM data '\n",
    "    'WHERE CARRIER IN {0} AND ORIGIN IN {1} AND DEST IN {1} '\n",
    "    'GROUP BY YEAR, MONTH, CARRIER, ORIGIN, DEST'.format(tuple(map(lambda x:str(x),major_carriers)),\n",
    "                                                         tuple(map(lambda x:str(x),major_airports))),\n",
    "     disk_engine)\n",
    "print \"querry done in \", dt.datetime.now()-tic\n",
    "\n",
    "# Create DATE column based on Year and Month. \n",
    "agg_data['DATE'] = map(lambda x,y: dt.datetime(x,y,1).date(),agg_data.YEAR,agg_data.MONTH)\n",
    "\n",
    "# Convert str (CARRIER, ORIGIN, DEST) variables to int\n",
    "agg_data['CARRIER_INT'] = map(lambda x: major_carriers.index(x),agg_data.CARRIER)\n",
    "agg_data['ORIGIN_INT'] = map(lambda x:major_airports.index(x),agg_data.ORIGIN)\n",
    "agg_data['DEST_INT'] = map(lambda x:major_airports.index(x),agg_data.DEST)\n",
    "\n"
   ]
  },
  {
   "cell_type": "code",
   "execution_count": 145,
   "metadata": {
    "collapsed": false
   },
   "outputs": [],
   "source": [
    "# groupby by date and carrier\n",
    "df_date_carrier = agg_data[['DATE','CARRIER','DEP_DEL_DUR','ARR_DEL_DUR','NUM_DEP_DEL15','NUM_ARR_DEL15','NUM_FLIGHTS']].groupby(['DATE','CARRIER']).sum().reset_index()"
   ]
  },
  {
   "cell_type": "code",
   "execution_count": 530,
   "metadata": {
    "collapsed": false
   },
   "outputs": [
    {
     "data": {
      "text/html": [
       "<iframe id=\"igraph\" scrolling=\"no\" style=\"border:none;\" seamless=\"seamless\" src=\"https://plot.ly/~cgirabawe/38.embed\" height=\"525px\" width=\"100%\"></iframe>"
      ],
      "text/plain": [
       "<plotly.tools.PlotlyDisplay object>"
      ]
     },
     "execution_count": 530,
     "metadata": {},
     "output_type": "execute_result"
    }
   ],
   "source": [
    "# use plotly to plot time series of departure delays\n",
    "traces = []\n",
    "for carrier in major_carriers:\n",
    "    df = df_date_carrier[df_date_carrier.CARRIER == carrier]\n",
    "    df = df.sort_values('DATE')\n",
    "    trace = go.Scatter(x=df.DATE.tolist(),y=(100*df.NUM_DEP_DEL15/df.NUM_FLIGHTS).tolist(),\n",
    "                       name=df_carriers[df_carriers.CARRIER == carrier]['CARRIER_NM'].tolist()[0],\n",
    "                      mode='lines',line={'width':1})\n",
    "    traces.append(trace)\n",
    "df = df_date_carrier[['DATE','NUM_DEP_DEL15','NUM_FLIGHTS']].groupby('DATE').sum().reset_index()\n",
    "traces.append(\n",
    "    go.Scatter(x=df.DATE.tolist(),y=(100*df.NUM_DEP_DEL15/df.NUM_FLIGHTS).tolist(),\n",
    "               name='All carriers',mode='lines',line={'width':2,'color':'black'})\n",
    ")\n",
    "layout = dict(\n",
    "    title='Dep delay over time by carrier',\n",
    "    yaxis=dict(title='Delay rate(%)'),\n",
    "    xaxis=dict(title = 'Time',type='date')\n",
    "    )\n",
    "\n",
    "fig = dict(data=traces, layout=layout)\n",
    "plotly.plotly.iplot(fig,filename='Spotify - deperture delays by carrier - all')"
   ]
  },
  {
   "cell_type": "code",
   "execution_count": 466,
   "metadata": {
    "collapsed": false
   },
   "outputs": [
    {
     "data": {
      "text/html": [
       "<iframe id=\"igraph\" scrolling=\"no\" style=\"border:none;\" seamless=\"seamless\" src=\"https://plot.ly/~cgirabawe/36.embed\" height=\"525px\" width=\"100%\"></iframe>"
      ],
      "text/plain": [
       "<plotly.tools.PlotlyDisplay object>"
      ]
     },
     "execution_count": 466,
     "metadata": {},
     "output_type": "execute_result"
    }
   ],
   "source": [
    "# use plotly to plot time series of arrival delays\n",
    "traces = []\n",
    "for carrier in major_carriers:\n",
    "    df = df_date_carrier[df_date_carrier.CARRIER == carrier]\n",
    "    df = df.sort_values('DATE')\n",
    "    trace = go.Scatter(x=df.DATE.tolist(),y=(100*df.NUM_ARR_DEL15/df.NUM_FLIGHTS).tolist(),\n",
    "                       name=df_carriers[df_carriers.CARRIER == carrier]['CARRIER_NM'].tolist()[0],\n",
    "                       mode='lines',line={'width':1})\n",
    "    traces.append(trace)\n",
    "df = df_date_carrier[['DATE','NUM_ARR_DEL15','NUM_FLIGHTS']].groupby('DATE').sum().reset_index()\n",
    "traces.append(\n",
    "    go.Scatter(x=df.DATE.tolist(),y=(100*df.NUM_ARR_DEL15/df.NUM_FLIGHTS).tolist(),\n",
    "               name='All carriers',mode='lines',line={'width':2,'color':'black'})\n",
    ")\n",
    "layout = dict(\n",
    "    title='Arr delay over time by carrier',\n",
    "    yaxis=dict(title='Delay rate(%)'),\n",
    "    xaxis=dict(title = 'Time',type='date')\n",
    "    )\n",
    "\n",
    "fig = dict(data=traces, layout=layout)\n",
    "plotly.plotly.iplot(fig,filename='Spotify - arrival delays by carrier - all')"
   ]
  },
  {
   "cell_type": "markdown",
   "metadata": {},
   "source": [
    "The above charts shows that delays pick are periodically. Each year, there are picks in June/July and December."
   ]
  },
  {
   "cell_type": "code",
   "execution_count": 295,
   "metadata": {
    "collapsed": false
   },
   "outputs": [
    {
     "data": {
      "image/png": "[encoded data removed]",
      "text/plain": [
       "<matplotlib.figure.Figure at 0x1112c9d10>"
      ]
     },
     "metadata": {},
     "output_type": "display_data"
    },
    {
     "name": "stdout",
     "output_type": "stream",
     "text": [
      "Correlation between departure and arrival delay rates: 0.934545927748\n"
     ]
    }
   ],
   "source": [
    "# generate histograms of dep and arr delays one next to each other to compare the median and standard deviation\n",
    "dep_del_rate = 100*df_date_carrier.NUM_DEP_DEL15/df_date_carrier.NUM_FLIGHTS\n",
    "arr_del_rate = 100*df_date_carrier.NUM_ARR_DEL15/df_date_carrier.NUM_FLIGHTS\n",
    "\n",
    "fig, (ax1,ax2) = plt.subplots(1,2,figsize = (14,4))\n",
    "ax1.hist(dep_del_rate,15,alpha=0.5)\n",
    "ax1.hist(arr_del_rate,15,alpha=0.5)\n",
    "ax1.set_xlabel('delay rate (%)')\n",
    "ax1.set_ylabel('count')\n",
    "ax1.legend(['departure','arrival'])\n",
    "\n",
    "# Can these distributions be fitted to Gaussian? If yes, then they are random\n",
    "from scipy.stats import norm\n",
    "dep_param = norm.fit(dep_del_rate)\n",
    "xx = np.linspace(0,max(dep_del_rate),100)\n",
    "dep_fitted = norm.pdf(xx,loc=dep_param[0],scale=dep_param[1])\n",
    "\n",
    "arr_param = norm.fit(arr_del_rate)\n",
    "xx = np.linspace(0,max(arr_del_rate),100)\n",
    "arr_fitted = norm.pdf(xx,loc=arr_param[0],scale=arr_param[1])\n",
    "\n",
    "ax1.plot(xx, dep_fitted*2E3,'b-')\n",
    "ax1.plot(xx, arr_fitted*1.7E3,'g-')\n",
    "\n",
    "\n",
    "ax2.scatter(dep_del_rate,arr_del_rate,alpha=0.5)\n",
    "ax2.set_xlabel('departure delay rate (%)')\n",
    "ax2.set_ylabel('arrival delay rate (%)')\n",
    "\n",
    "# fit scatter data\n",
    "a,b = spo.curve_fit(lambda x,a,b:a*x+b,dep_del_rate,arr_del_rate)[0]\n",
    "plt.plot(np.linspace(min(dep_del_rate),max(dep_del_rate),100),\n",
    "         a*np.linspace(min(dep_del_rate),max(dep_del_rate),100)+b,'r')\n",
    "plt.legend(['a={0},b={1}'.format(round(a,2),round(b,2)),'data'],loc=4)\n",
    "plt.show()\n",
    "\n",
    "\n",
    "\n",
    "print \"Correlation between departure and arrival delay rates:\", dep_del_rate.corr(arr_del_rate)"
   ]
  },
  {
   "cell_type": "markdown",
   "metadata": {},
   "source": [
    "In general, US domestic flights are about 15% likely to take off with 15 minutes of delay while they are 20% likely to arrive with 15 minutes of delay. Both departure and arrival delay rates are strong correlated with a strength of 0.93. So, in future analysis, we will focus only on arrival delay rates and therefore any insight on departure delays can be deducted from arrival delay rates"
   ]
  },
  {
   "cell_type": "markdown",
   "metadata": {},
   "source": [
    "#### Can we use historical info on delay rates to predict future delay rates?\n",
    "Let's try to build a model that will use the carrier name, previous month delay rate and the change in delay rates of the last two month"
   ]
  },
  {
   "cell_type": "code",
   "execution_count": 392,
   "metadata": {
    "collapsed": false
   },
   "outputs": [],
   "source": [
    "\n",
    "df_data = pd.DataFrame()\n",
    "for carrier in major_carriers:\n",
    "    df = df_date_carrier[df_date_carrier.CARRIER == carrier].sort_values('DATE').reset_index()\n",
    "    tmp = pd.DataFrame()\n",
    "    if df.shape[0] > 0:\n",
    "        #print carrier,df.shape\n",
    "        adr = 100*df.NUM_ARR_DEL15/df.NUM_FLIGHTS\n",
    "        tmp['DATE'] = df[2:]['DATE']\n",
    "        tmp['MONTH'] = tmp.DATE.apply(lambda x:x.month)\n",
    "        tmp['CARRIER'] = carrier\n",
    "        tmp['ADR_CHANGE'] = adr[1:-1].values - adr[:-2].values\n",
    "        tmp['ADR_PREV'] = adr[1:-1].values\n",
    "        tmp['ADR'] = adr[2:].values\n",
    "        df_data = df_data.append(tmp, ignore_index=True)\n"
   ]
  },
  {
   "cell_type": "markdown",
   "metadata": {},
   "source": [
    "#### Predictive Model Building\n",
    "Here we are going to use sklearn and try to build a model that would predict the probability of arrivals being delayed by 15min+"
   ]
  },
  {
   "cell_type": "code",
   "execution_count": 434,
   "metadata": {
    "collapsed": false
   },
   "outputs": [],
   "source": [
    "from sklearn.preprocessing import LabelEncoder\n",
    "from sklearn.metrics import mean_squared_error, r2_score\n",
    "from sklearn.ensemble import RandomForestRegressor\n",
    "from xgboost import XGBRegressor\n"
   ]
  },
  {
   "cell_type": "code",
   "execution_count": 512,
   "metadata": {
    "collapsed": true
   },
   "outputs": [],
   "source": [
    "# prepare labels\n",
    "labels_train = ['MONTH','CARRIER','ADR_CHANGE','ADR_PREV']\n",
    "labels_target = df_data.columns[-1]\n",
    "\n",
    "# convert carrier string variable to numeric variables\n",
    "le_carrier = LabelEncoder()\n",
    "df_data['CARRIER'] = le_carrier.fit_transform(df_data.CARRIER.astype('str'))"
   ]
  },
  {
   "cell_type": "markdown",
   "metadata": {},
   "source": [
    "Split data into train, validation and test sets"
   ]
  },
  {
   "cell_type": "code",
   "execution_count": 513,
   "metadata": {
    "collapsed": false
   },
   "outputs": [],
   "source": [
    "df_train = df_data[df_data.DATE<dt.datetime(2014,1,1).date()]\n",
    "df_valid = df_data[(df_data.DATE>=dt.datetime(2014,1,1).date()) & (df_data.DATE<dt.datetime(2015,1,1).date())]\n",
    "df_test = df_data[(df_data.DATE>=dt.datetime(2015,1,1).date()) & (df_data.DATE<dt.datetime(2016,1,1).date())]"
   ]
  },
  {
   "cell_type": "code",
   "execution_count": 514,
   "metadata": {
    "collapsed": false
   },
   "outputs": [
    {
     "name": "stdout",
     "output_type": "stream",
     "text": [
      "Random Forest Regressor\n",
      "mse score on training set: 2.95048505358\n",
      "mse score on validation set: 15.4484641889\n",
      "mse score on test set: 16.1139400737\n"
     ]
    }
   ],
   "source": [
    "print \"Random Forest Regressor\"\n",
    "rfrmodel = RandomForestRegressor(n_estimators=20, max_features=2)\n",
    "rfrmodel.fit(df_train[labels_train],df_train[labels_target])\n",
    "yvalid = rfrmodel.predict(df_valid[labels_train])\n",
    "ytest = rfrmodel.predict(df_test[labels_train])\n",
    "\n",
    "print \"mse score on training set:\", mean_squared_error(df_train[labels_target],rfrmodel.predict(df_train[labels_train]))\n",
    "print \"mse score on validation set:\", mean_squared_error(df_valid[labels_target],yvalid)\n",
    "print \"mse score on test set:\", mean_squared_error(df_test[labels_target],ytest)"
   ]
  },
  {
   "cell_type": "code",
   "execution_count": 517,
   "metadata": {
    "collapsed": false
   },
   "outputs": [
    {
     "name": "stdout",
     "output_type": "stream",
     "text": [
      "xgboost\n",
      "mse score on training set: 22.9848694989\n",
      "mse score on validation set: 26.4819829551\n",
      "mse score on test set: 21.5708447212\n"
     ]
    }
   ],
   "source": [
    "print \"xgboost\"\n",
    "xgbmodel = XGBRegressor(n_estimators=20)\n",
    "xgbmodel.fit(df_train[labels_train],df_train[labels_target])\n",
    "yvalid = xgbmodel.predict(df_valid[labels_train])\n",
    "ytest = xgbmodel.predict(df_test[labels_train])\n",
    "\n",
    "print \"mse score on training set:\", mean_squared_error(df_train[labels_target],xgbmodel.predict(df_train[labels_train]))\n",
    "print \"mse score on validation set:\", mean_squared_error(df_valid[labels_target],yvalid)\n",
    "print \"mse score on test set:\", mean_squared_error(df_test[labels_target],ytest)"
   ]
  },
  {
   "cell_type": "markdown",
   "metadata": {},
   "source": [
    "#### Time series statistical analayis\n",
    "\n",
    "1. Make the time series stationary\n",
    "\n",
    "2. Remove trend and seasonality (to remain with residuals)\n",
    "\n",
    "3. Use ARIMA for forecasting\n",
    "\n",
    "Let's start by checking for stationarity using **Dickey-Fuller Test** which tests the null hypothesis of whether a unit root is present in a time series sample. \n",
    "http://www.analyticsvidhya.com/blog/2016/02/time-series-forecasting-codes-python/"
   ]
  },
  {
   "cell_type": "code",
   "execution_count": 572,
   "metadata": {
    "collapsed": false
   },
   "outputs": [],
   "source": [
    "df_train = df_date_carrier[df_date_carrier.DATE<dt.datetime(2015,1,1).date()]\n",
    "df_valid = df_date_carrier[(df_date_carrier.DATE>=dt.datetime(2015,1,1).date()) & (df_date_carrier.DATE<dt.datetime(2016,1,1).date())]"
   ]
  },
  {
   "cell_type": "code",
   "execution_count": 641,
   "metadata": {
    "collapsed": false
   },
   "outputs": [],
   "source": [
    "#Time series analysis\n",
    "from statsmodels.tsa.stattools import adfuller\n",
    "\n",
    "def test_stationarity(ts_data, xvals = None, window=2):\n",
    "    if type(xvals) != pd.core.series.Series:\n",
    "        xvals = ts_data.index\n",
    "    # calculate rolling stats\n",
    "    roll_mean = pd.rolling_mean(ts_data,window = window)\n",
    "    roll_std = pd.rolling_std(ts_data, window = window)\n",
    "    \n",
    "    # plot rolling stats\n",
    "    fig = plt.figure(figsize = (10,5))\n",
    "    orig_plt = plt.plot(xvals,ts_data,'b', label = 'original')\n",
    "    mean_plt = plt.plot(xvals,roll_mean, 'g', label = 'rolling mean')\n",
    "    std_plt = plt.plot(xvals,roll_std, 'r', label = 'rolling std')\n",
    "    plt.legend(loc='best')\n",
    "    plt.title('rolling mean vs std')\n",
    "    plt.show()\n",
    "    \n",
    "    # Dickey-Fuller test\n",
    "    print 'Dickey-Fuller Test:'\n",
    "    dftest = adfuller(ts_data.values, autolag='AIC')\n",
    "    dfoutput = pd.Series(dftest[0:4], index=['Test Statistic','p-value','#Lags Used','Number of Observations Used'])\n",
    "    for key,value in dftest[4].items():\n",
    "        dfoutput['Critical Value (%s)'%key] = value\n",
    "    print dfoutput"
   ]
  },
  {
   "cell_type": "code",
   "execution_count": 731,
   "metadata": {
    "collapsed": false
   },
   "outputs": [],
   "source": [
    "carrier = 'B6'\n",
    "dd1 = pd.DataFrame(100*df_train[df_train.CARRIER == carrier]['NUM_ARR_DEL15']/df_train[df_train.CARRIER == carrier]['NUM_FLIGHTS'])\n",
    "dd1 = 100*df_train[df_train.CARRIER == carrier]['NUM_ARR_DEL15']/df_train[df_train.CARRIER == carrier]['NUM_FLIGHTS']\n",
    "#dd1.index = df_date_carrier.loc[dd1.index,'DATE']"
   ]
  },
  {
   "cell_type": "code",
   "execution_count": 732,
   "metadata": {
    "collapsed": false
   },
   "outputs": [
    {
     "name": "stderr",
     "output_type": "stream",
     "text": [
      "/Library/Frameworks/Python.framework/Versions/2.7/lib/python2.7/site-packages/ipykernel-4.0.3-py2.7.egg/ipykernel/__main__.py:8: FutureWarning:\n",
      "\n",
      "pd.rolling_mean is deprecated for Series and will be removed in a future version, replace with \n",
      "\tSeries.rolling(window=2,center=False).mean()\n",
      "\n",
      "/Library/Frameworks/Python.framework/Versions/2.7/lib/python2.7/site-packages/ipykernel-4.0.3-py2.7.egg/ipykernel/__main__.py:9: FutureWarning:\n",
      "\n",
      "pd.rolling_std is deprecated for Series and will be removed in a future version, replace with \n",
      "\tSeries.rolling(window=2,center=False).std()\n",
      "\n"
     ]
    },
    {
     "data": {
      "image/png": "[encoded data removed]",
      "text/plain": [
       "<matplotlib.figure.Figure at 0x117d2d710>"
      ]
     },
     "metadata": {},
     "output_type": "display_data"
    },
    {
     "name": "stdout",
     "output_type": "stream",
     "text": [
      "Dickey-Fuller Test:\n",
      "Test Statistic                 -4.714473\n",
      "p-value                         0.000079\n",
      "#Lags Used                      0.000000\n",
      "Number of Observations Used    58.000000\n",
      "Critical Value (5%)            -2.912837\n",
      "Critical Value (1%)            -3.548494\n",
      "Critical Value (10%)           -2.594129\n",
      "dtype: float64\n"
     ]
    }
   ],
   "source": [
    "test_stationarity(dd1)#,xvals=df_train[df_train.CARRIER == carrier]['DATE'],window=2)"
   ]
  },
  {
   "cell_type": "markdown",
   "metadata": {},
   "source": [
    "With the test statistics less than 0.05, we can say that our time series is already stationary with 95% confidence\n",
    "\n",
    "#### Eliminating seasonality\n",
    "Here we use differencing techniques to get rid off any seasonality and trend and hence remain with only residuals"
   ]
  },
  {
   "cell_type": "code",
   "execution_count": 733,
   "metadata": {
    "collapsed": false
   },
   "outputs": [
    {
     "name": "stderr",
     "output_type": "stream",
     "text": [
      "/Library/Frameworks/Python.framework/Versions/2.7/lib/python2.7/site-packages/ipykernel-4.0.3-py2.7.egg/ipykernel/__main__.py:8: FutureWarning:\n",
      "\n",
      "pd.rolling_mean is deprecated for Series and will be removed in a future version, replace with \n",
      "\tSeries.rolling(window=2,center=False).mean()\n",
      "\n",
      "/Library/Frameworks/Python.framework/Versions/2.7/lib/python2.7/site-packages/ipykernel-4.0.3-py2.7.egg/ipykernel/__main__.py:9: FutureWarning:\n",
      "\n",
      "pd.rolling_std is deprecated for Series and will be removed in a future version, replace with \n",
      "\tSeries.rolling(window=2,center=False).std()\n",
      "\n"
     ]
    },
    {
     "data": {
      "image/png": "[encoded data removed]",
      "text/plain": [
       "<matplotlib.figure.Figure at 0x11a3675d0>"
      ]
     },
     "metadata": {},
     "output_type": "display_data"
    },
    {
     "name": "stdout",
     "output_type": "stream",
     "text": [
      "Dickey-Fuller Test:\n",
      "Test Statistic                -7.076406e+00\n",
      "p-value                        4.789360e-10\n",
      "#Lags Used                     3.000000e+00\n",
      "Number of Observations Used    5.400000e+01\n",
      "Critical Value (5%)           -2.916770e+00\n",
      "Critical Value (1%)           -3.557709e+00\n",
      "Critical Value (10%)          -2.596222e+00\n",
      "dtype: float64\n"
     ]
    }
   ],
   "source": [
    "ts_diff = dd1 - dd1.shift()\n",
    "ts_diff.dropna(inplace=True)\n",
    "test_stationarity(ts_diff, window=2)"
   ]
  },
  {
   "cell_type": "code",
   "execution_count": 606,
   "metadata": {
    "collapsed": true
   },
   "outputs": [],
   "source": [
    "from statsmodels.tsa.stattools import acf, pacf"
   ]
  },
  {
   "cell_type": "code",
   "execution_count": 734,
   "metadata": {
    "collapsed": false
   },
   "outputs": [],
   "source": [
    "lag_acf = acf(ts_diff, nlags=10)\n",
    "lag_pacf = pacf(ts_diff, nlags=10)#, method='ols')"
   ]
  },
  {
   "cell_type": "code",
   "execution_count": 735,
   "metadata": {
    "collapsed": false
   },
   "outputs": [
    {
     "data": {
      "text/plain": [
       "<matplotlib.text.Text at 0x119928050>"
      ]
     },
     "execution_count": 735,
     "metadata": {},
     "output_type": "execute_result"
    },
    {
     "data": {
      "image/png": "[encoded data removed]",
      "text/plain": [
       "<matplotlib.figure.Figure at 0x119c4b9d0>"
      ]
     },
     "metadata": {},
     "output_type": "display_data"
    }
   ],
   "source": [
    "#Plot ACF: \n",
    "fig, (ax1,ax2)=plt.subplots(1,2, figsize = (18,5))\n",
    "#plt.subplot(121) \n",
    "ax1.plot(lag_acf)\n",
    "ax1.axhline(y=0,linestyle='--',color='gray')\n",
    "ax1.axhline(y=-1.96/np.sqrt(len(ts_diff)),linestyle='--',color='gray')\n",
    "ax1.axhline(y=1.96/np.sqrt(len(ts_diff)),linestyle='--',color='gray')\n",
    "ax1.set_title('Autocorrelation Function')\n",
    "\n",
    "#Plot PACF:\n",
    "ax2.plot(lag_pacf)\n",
    "ax2.axhline(y=0,linestyle='--',color='gray')\n",
    "ax2.axhline(y=-1.96/np.sqrt(len(ts_diff)),linestyle='--',color='gray')\n",
    "ax2.axhline(y=1.96/np.sqrt(len(ts_diff)),linestyle='--',color='gray')\n",
    "ax2.set_title('Partial Autocorrelation Function')"
   ]
  },
  {
   "cell_type": "markdown",
   "metadata": {},
   "source": [
    "For ARIMA, we are going to use p=0.5, q=0.5"
   ]
  },
  {
   "cell_type": "code",
   "execution_count": 632,
   "metadata": {
    "collapsed": true
   },
   "outputs": [],
   "source": [
    "from statsmodels.tsa.arima_model import ARIMA"
   ]
  },
  {
   "cell_type": "code",
   "execution_count": 736,
   "metadata": {
    "collapsed": false
   },
   "outputs": [
    {
     "name": "stdout",
     "output_type": "stream",
     "text": [
      "mse score on validation set: 28.8819929701\n"
     ]
    },
    {
     "data": {
      "image/png": "[encoded data removed]",
      "text/plain": [
       "<matplotlib.figure.Figure at 0x117d6c650>"
      ]
     },
     "metadata": {},
     "output_type": "display_data"
    }
   ],
   "source": [
    "# ARIMA Model\n",
    "dd1_df = pd.DataFrame(dd1)\n",
    "df_ts_diff = pd.DataFrame(ts_diff)\n",
    "#dd1_df.index = df_date_carrier.loc[dd1.index,'DATE'].values\n",
    "dd1_df.index = map(lambda x:dt.datetime(x.year,x.month,x.day),df_date_carrier.loc[dd1.index,'DATE'])\n",
    "df_ts_diff.index = map(lambda x:dt.datetime(x.year,x.month,x.day),df_date_carrier.loc[ts_diff.index,'DATE'])\n",
    "model = ARIMA(dd1_df, order=(3, 0, 3))  \n",
    "results_AR = model.fit()  \n",
    "fig = plt.figure(figsize=(8,4))\n",
    "#plt.plot(df_ts_diff,label='difference')\n",
    "plt.plot(dd1_df,'g', label='original')\n",
    "plt.plot(results_AR.fittedvalues, color='red', label='fit')\n",
    "plt.title('RSS: %.4f'% np.nansum((results_AR.fittedvalues-ts_diff)**2))\n",
    "plt.legend(loc='best')\n",
    "print \"mse score on validation set:\", mean_squared_error(dd1_df,results_AR.fittedvalues)"
   ]
  },
  {
   "cell_type": "code",
   "execution_count": 685,
   "metadata": {
    "collapsed": false
   },
   "outputs": [],
   "source": [
    "model.fit?"
   ]
  },
  {
   "cell_type": "code",
   "execution_count": 3,
   "metadata": {
    "collapsed": false
   },
   "outputs": [],
   "source": [
    "tmp = pd.read_csv('data/2010/208712471_T_ONTIME-1.csv')"
   ]
  },
  {
   "cell_type": "code",
   "execution_count": 4,
   "metadata": {
    "collapsed": false
   },
   "outputs": [
    {
     "data": {
      "text/plain": [
       "Index([u'YEAR', u'QUARTER', u'MONTH', u'DAY_OF_MONTH', u'DAY_OF_WEEK',\n",
       "       u'FL_DATE', u'UNIQUE_CARRIER', u'AIRLINE_ID', u'CARRIER', u'TAIL_NUM',\n",
       "       u'FL_NUM', u'ORIGIN_AIRPORT_ID', u'ORIGIN_AIRPORT_SEQ_ID',\n",
       "       u'ORIGIN_CITY_MARKET_ID', u'ORIGIN', u'ORIGIN_CITY_NAME',\n",
       "       u'ORIGIN_STATE_ABR', u'ORIGIN_STATE_FIPS', u'ORIGIN_STATE_NM',\n",
       "       u'ORIGIN_WAC', u'DEST_AIRPORT_ID', u'DEST_AIRPORT_SEQ_ID',\n",
       "       u'DEST_CITY_MARKET_ID', u'DEST', u'DEST_CITY_NAME', u'DEST_STATE_ABR',\n",
       "       u'DEST_STATE_FIPS', u'DEST_STATE_NM', u'DEST_WAC', u'CRS_DEP_TIME',\n",
       "       u'DEP_TIME', u'DEP_DELAY', u'DEP_DELAY_NEW', u'DEP_DEL15',\n",
       "       u'DEP_DELAY_GROUP', u'DEP_TIME_BLK', u'TAXI_OUT', u'WHEELS_OFF',\n",
       "       u'WHEELS_ON', u'TAXI_IN', u'CRS_ARR_TIME', u'ARR_TIME', u'ARR_DELAY',\n",
       "       u'ARR_DELAY_NEW', u'ARR_DEL15', u'ARR_DELAY_GROUP', u'ARR_TIME_BLK',\n",
       "       u'CANCELLED', u'CANCELLATION_CODE', u'DIVERTED', u'CRS_ELAPSED_TIME',\n",
       "       u'ACTUAL_ELAPSED_TIME', u'AIR_TIME', u'FLIGHTS', u'DISTANCE',\n",
       "       u'DISTANCE_GROUP', u'CARRIER_DELAY', u'WEATHER_DELAY', u'NAS_DELAY',\n",
       "       u'SECURITY_DELAY', u'LATE_AIRCRAFT_DELAY', u'Unnamed: 61'],\n",
       "      dtype='object')"
      ]
     },
     "execution_count": 4,
     "metadata": {},
     "output_type": "execute_result"
    }
   ],
   "source": [
    "tmp.columns"
   ]
  },
  {
   "cell_type": "code",
   "execution_count": null,
   "metadata": {
    "collapsed": true
   },
   "outputs": [],
   "source": []
  }
 ],
 "metadata": {
  "kernelspec": {
   "display_name": "Python 2",
   "language": "python",
   "name": "python2"
  },
  "language_info": {
   "codemirror_mode": {
    "name": "ipython",
    "version": 2
   },
   "file_extension": ".py",
   "mimetype": "text/x-python",
   "name": "python",
   "nbconvert_exporter": "python",
   "pygments_lexer": "ipython2",
   "version": "2.7.10"
  }
 },
 "nbformat": 4,
 "nbformat_minor": 0
}

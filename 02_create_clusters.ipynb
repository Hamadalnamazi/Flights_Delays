{
 "cells": [
  {
   "cell_type": "code",
   "execution_count": 1,
   "metadata": {
    "collapsed": true
   },
   "outputs": [],
   "source": [
    "import pandas as pd\n",
    "import numpy as np\n",
    "import matplotlib.pyplot as plt\n",
    "%matplotlib inline\n",
    "import os\n",
    "import datetime as dt\n",
    "\n",
    "# initialize a connection to the database\n",
    "import sqlite3\n",
    "conn = sqlite3.connect('../Spotify_Challenge/dbsql.db')\n",
    "\n",
    "# initialize another sqlalchemy connection to the same database to be able to query data straight to pandas dataframe\n",
    "from sqlalchemy import create_engine\n",
    "disk_engine = create_engine('sqlite:///../Spotify_Challenge/dbsql.db')\n",
    "\n",
    "from sklearn.preprocessing import StandardScaler\n",
    "from sklearn.cluster import KMeans"
   ]
  },
  {
   "cell_type": "markdown",
   "metadata": {},
   "source": [
    "### Cluster analysis\n",
    "\n",
    "In this notebook, airports and flights are going to be set into clusters. But one would ask himself why clustering airports and/or flights.\n",
    "Let me first remind the objective of the project. The goal of this project is to build a model that can predict how long a flight between two airports, **origin** and **destination**, in a given **airline** on a given **date** would be delayed. In other words, this model would ask only 4 variables from the users. However, the dataset available to us has about 22 features. So, in order to make use of all the rest of the features, I am going to cluster airports and flights using specific features hence embedding the rest of the variables into airports or flights. For instance, using airports geo-coordinates, airports can be clustered into 2 groups (east and west) or even more. Similarly, flights can be clustered using the distance between origin and destination or even average flight time."
   ]
  },
  {
   "cell_type": "code",
   "execution_count": null,
   "metadata": {
    "collapsed": true
   },
   "outputs": [],
   "source": []
  }
 ],
 "metadata": {
  "kernelspec": {
   "display_name": "Python 2",
   "language": "python",
   "name": "python2"
  },
  "language_info": {
   "codemirror_mode": {
    "name": "ipython",
    "version": 2
   },
   "file_extension": ".py",
   "mimetype": "text/x-python",
   "name": "python",
   "nbconvert_exporter": "python",
   "pygments_lexer": "ipython2",
   "version": "2.7.10"
  }
 },
 "nbformat": 4,
 "nbformat_minor": 0
}
